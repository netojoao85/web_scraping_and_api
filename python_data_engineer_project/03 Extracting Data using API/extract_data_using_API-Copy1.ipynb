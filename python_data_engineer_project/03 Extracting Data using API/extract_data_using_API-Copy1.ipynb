{
 "cells": [
  {
   "cell_type": "markdown",
   "metadata": {},
   "source": [
    "# Extract data from an API endpoint"
   ]
  },
  {
   "cell_type": "markdown",
   "metadata": {},
   "source": [
    "Sometimes the data you want or need exists in structured form on the web, but can't be accessed via an API or a database connection. "
   ]
  },
  {
   "cell_type": "markdown",
   "metadata": {},
   "source": [
    "### Objectives\n",
    "*   Collect the \"exchange rate\" data using an API\n",
    "*   Store the data as a CSV file\n"
   ]
  },
  {
   "cell_type": "markdown",
   "metadata": {},
   "source": [
    "### Tasks / Steps\n",
    "1. Import libraries / packages needed\n",
    "    - 'pandas'\n",
    "    - 'requests'\n",
    "2. Extract data from an API endpoint\n",
    "2. Extract Data Using an API    \n",
    "    2.1. Connect to API  \n",
    "    2.2. Call API\n",
    "3. Save JSON object as a pandas dataframe\n",
    "4. Load data in a CSV file"
   ]
  },
  {
   "cell_type": "markdown",
   "metadata": {},
   "source": [
    "-------------------------------------------------------"
   ]
  },
  {
   "cell_type": "markdown",
   "metadata": {},
   "source": [
    "## 1. Import libraries"
   ]
  },
  {
   "cell_type": "code",
   "execution_count": 11,
   "metadata": {},
   "outputs": [],
   "source": [
    "#--------------------------------------------------------------------------\n",
    "# Import libraries needed\n",
    "#--------------------------------------------------------------------------\n",
    "\n",
    "import requests  # to help the communication between the browser and the web server that contains the data\n",
    "import pandas as pd"
   ]
  },
  {
   "cell_type": "markdown",
   "metadata": {},
   "source": [
    "## 2. EXTRACT DATA USING AN API\n"
   ]
  },
  {
   "attachments": {
    "image.png": {
     "image/png": "[encoded data removed]"
    }
   },
   "cell_type": "markdown",
   "metadata": {},
   "source": [
    "### 2.1 Used ExchangeRate-API to extract currency exchange rate data. Followed the next steps to get the access key and to get the data.\n",
    "\n",
    "a)  Open the url : [https://exchangeratesapi.io/](https://exchangeratesapi.io/?utm_medium=Exinfluencer&utm_source=Exinfluencer&utm_content=000026UJ&utm_term=10006555&utm_id=NA-SkillsNetwork-Channel-SkillsNetworkCoursesIBMDeveloperSkillsNetworkPY0221ENSkillsNetwork23455645-2022-01-01) and click on **Get Free API Key**.    \n",
    "b)  Subscribed the Free plan and Signed-in with the Google Account.     \n",
    "c)  Once the account is created, I was redirected to[https://apilayer.com](https://apilayer.com/?utm_medium=Exinfluencer&utm_source=Exinfluencer&utm_content=000026UJ&utm_term=10006555&utm_id=NA-SkillsNetwork-Channel-SkillsNetworkCoursesIBMDeveloperSkillsNetworkPY0221ENSkillsNetwork23455645-2022-01-01) website.     \n",
    "d) Clicked on the **user icon** and click **Account** as shown below:      \n",
    "\n",
    "<img src=\"https://cf-courses-data.s3.us.cloud-object-storage.appdomain.cloud/IBMDeveloperSkillsNetwork-PY0221EN-SkillsNetwork/labs/module%206/Final%20Assignment/Images/account.png\"/>\n",
    "\n",
    "e)  Got the API Key to call the API.\n",
    "![image.png](attachment:image.png)\n"
   ]
  },
  {
   "cell_type": "markdown",
   "metadata": {},
   "source": [
    "## 2.2. Extract data from an API endpoint\n",
    "2.2.1. Set up the 'url' variable with the URL address of the API endpoint     \n",
    "2.2.2. Using the 'requests' library to call the endpoint and collect the data     \n",
    "2.2.3. Check whether the data was collected efficiently or not     "
   ]
  },
  {
   "cell_type": "code",
   "execution_count": 4,
   "metadata": {},
   "outputs": [
    {
     "data": {
      "text/plain": [
       "'https://api.apilayer.com/exchangerates_data/latest?base=EUR&apikey=AgeU5O7nLp9PPoycKPzMF07nKDcYy9Wu'"
      ]
     },
     "execution_count": 4,
     "metadata": {},
     "output_type": "execute_result"
    }
   ],
   "source": [
    "# -------------------------------------------------------------------------------\n",
    "# 2.2.1.\n",
    "# Set up the target endpoint (at the end was included the API key got it before)\n",
    "# -------------------------------------------------------------------------------\n",
    "#Set a variable 'url' which is the  endpoint to target\n",
    "url_base = \"https://api.apilayer.com/exchangerates_data/latest?base=EUR&apikey=\"\n",
    "api_key = \"AgeU5O7nLp9PPoycKPzMF07nKDcYy9Wu\"\n",
    "\n",
    "url = url_base + api_key\n",
    "url"
   ]
  },
  {
   "cell_type": "code",
   "execution_count": 3,
   "metadata": {},
   "outputs": [
    {
     "ename": "NameError",
     "evalue": "name 'requests' is not defined",
     "output_type": "error",
     "traceback": [
      "\u001b[1;31m---------------------------------------------------------------------------\u001b[0m",
      "\u001b[1;31mNameError\u001b[0m                                 Traceback (most recent call last)",
      "Input \u001b[1;32mIn [3]\u001b[0m, in \u001b[0;36m<cell line: 7>\u001b[1;34m()\u001b[0m\n\u001b[0;32m      1\u001b[0m \u001b[38;5;66;03m# -------------------------------------------------------------------------------\u001b[39;00m\n\u001b[0;32m      2\u001b[0m \u001b[38;5;66;03m# 2.2.2\u001b[39;00m\n\u001b[0;32m      3\u001b[0m \u001b[38;5;66;03m# Using the 'requests' package to make a GET request from the API endpoint. \u001b[39;00m\n\u001b[0;32m      4\u001b[0m \u001b[38;5;66;03m# Conventionally, the 'r' variable is to be to set the request.\u001b[39;00m\n\u001b[0;32m      5\u001b[0m \u001b[38;5;66;03m# -------------------------------------------------------------------------------\u001b[39;00m\n\u001b[1;32m----> 7\u001b[0m r \u001b[38;5;241m=\u001b[39m \u001b[43mrequests\u001b[49m\u001b[38;5;241m.\u001b[39mget(url)\n",
      "\u001b[1;31mNameError\u001b[0m: name 'requests' is not defined"
     ]
    }
   ],
   "source": [
    "# -------------------------------------------------------------------------------\n",
    "# 2.2.2\n",
    "# Using the 'requests' package to make a GET request from the API endpoint. \n",
    "# Conventionally, the 'r' variable is to be to set the request.\n",
    "# -------------------------------------------------------------------------------\n",
    "\n",
    "r = requests.get(url)"
   ]
  },
  {
   "cell_type": "code",
   "execution_count": 20,
   "metadata": {},
   "outputs": [
    {
     "data": {
      "text/plain": [
       "<Response [200]>"
      ]
     },
     "execution_count": 20,
     "metadata": {},
     "output_type": "execute_result"
    }
   ],
   "source": [
    "# ---------------------------------------------------------------------------------------------------------\n",
    "# What is stored in the variable r? \n",
    "# The expected is the status code response  '<Response [200]>, 'which means that the request has succeeded.\n",
    "# ---------------------------------------------------------------------------------------------------------\n",
    "\n",
    "r"
   ]
  },
  {
   "cell_type": "code",
   "execution_count": 21,
   "metadata": {},
   "outputs": [
    {
     "data": {
      "text/plain": [
       "'{\\n    \"success\": true,\\n    \"timestamp\": 1704928023,\\n    \"base\": \"EUR\",\\n    \"date\": \"2024-01-10\",\\n   '"
      ]
     },
     "execution_count": 21,
     "metadata": {},
     "output_type": "execute_result"
    }
   ],
   "source": [
    "r.text[0:100]"
   ]
  },
  {
   "cell_type": "code",
   "execution_count": 22,
   "metadata": {},
   "outputs": [
    {
     "name": "stdout",
     "output_type": "stream",
     "text": [
      "None\n"
     ]
    }
   ],
   "source": [
    "print(r.request.body)"
   ]
  },
  {
   "cell_type": "markdown",
   "metadata": {},
   "source": [
    "## 3. Save JSON object as a pandas dataframe\n",
    "\n",
    "The data that API collect are on JSON formatted data. \n",
    "\n",
    "The data gathered it is in JSON format, having turned it into a pandas data frame. \n",
    "1) Turn the json object into a dictionary (dict)"
   ]
  },
  {
   "cell_type": "code",
   "execution_count": 23,
   "metadata": {},
   "outputs": [
    {
     "data": {
      "text/plain": [
       "{'success': True,\n",
       " 'timestamp': 1704928023,\n",
       " 'base': 'EUR',\n",
       " 'date': '2024-01-10',\n",
       " 'rates': {'AED': 4.029979,\n",
       "  'AFN': 77.409134,\n",
       "  'ALL': 104.412575,\n",
       "  'AMD': 444.900544,\n",
       "  'ANG': 1.977294,\n",
       "  'AOA': 909.291778,\n",
       "  'ARS': 894.174616,\n",
       "  'AUD': 1.637106,\n",
       "  'AWG': 1.977737,\n",
       "  'AZN': 1.869187,\n",
       "  'BAM': 1.960336,\n",
       "  'BBD': 2.215226,\n",
       "  'BDT': 120.40864,\n",
       "  'BGN': 1.957843,\n",
       "  'BHD': 0.413566,\n",
       "  'BIF': 3134.754964,\n",
       "  'BMD': 1.097219,\n",
       "  'BND': 1.460379,\n",
       "  'BOB': 7.581614,\n",
       "  'BRL': 5.368577,\n",
       "  'BSD': 1.097139,\n",
       "  'BTC': 2.3174851e-05,\n",
       "  'BTN': 91.078497,\n",
       "  'BWP': 14.826378,\n",
       "  'BYN': 3.589907,\n",
       "  'BYR': 21505.494325,\n",
       "  'BZD': 2.211518,\n",
       "  'CAD': 1.468024,\n",
       "  'CDF': 2946.032995,\n",
       "  'CHF': 0.933399,\n",
       "  'CLF': 0.036452,\n",
       "  'CLP': 1005.810308,\n",
       "  'CNY': 7.868706,\n",
       "  'COP': 4319.20298,\n",
       "  'CRC': 571.728259,\n",
       "  'CUC': 1.097219,\n",
       "  'CUP': 29.076306,\n",
       "  'CVE': 110.682003,\n",
       "  'CZK': 24.576938,\n",
       "  'DJF': 194.997933,\n",
       "  'DKK': 7.457797,\n",
       "  'DOP': 64.299735,\n",
       "  'DZD': 147.58779,\n",
       "  'EGP': 33.900561,\n",
       "  'ERN': 16.458286,\n",
       "  'ETB': 62.042439,\n",
       "  'EUR': 1,\n",
       "  'FJD': 2.458594,\n",
       "  'FKP': 0.862769,\n",
       "  'GBP': 0.861239,\n",
       "  'GEL': 2.946029,\n",
       "  'GGP': 0.862769,\n",
       "  'GHS': 13.111844,\n",
       "  'GIP': 0.862769,\n",
       "  'GMD': 73.815399,\n",
       "  'GNF': 9386.709698,\n",
       "  'GTQ': 8.57388,\n",
       "  'GYD': 229.723702,\n",
       "  'HKD': 8.580967,\n",
       "  'HNL': 27.056612,\n",
       "  'HRK': 7.660532,\n",
       "  'HTG': 144.444262,\n",
       "  'HUF': 378.420114,\n",
       "  'IDR': 17067.243072,\n",
       "  'ILS': 4.102557,\n",
       "  'IMP': 0.862769,\n",
       "  'INR': 91.076372,\n",
       "  'IQD': 1437.357019,\n",
       "  'IRR': 46124.348722,\n",
       "  'ISK': 149.901848,\n",
       "  'JEP': 0.862769,\n",
       "  'JMD': 169.864636,\n",
       "  'JOD': 0.778363,\n",
       "  'JPY': 159.785761,\n",
       "  'KES': 174.458119,\n",
       "  'KGS': 98.000209,\n",
       "  'KHR': 4496.952946,\n",
       "  'KMF': 494.681375,\n",
       "  'KPW': 987.489222,\n",
       "  'KRW': 1446.551388,\n",
       "  'KWD': 0.337406,\n",
       "  'KYD': 0.91432,\n",
       "  'KZT': 498.485828,\n",
       "  'LAK': 22641.115783,\n",
       "  'LBP': 16529.605246,\n",
       "  'LKR': 354.39172,\n",
       "  'LRD': 207.319511,\n",
       "  'LSL': 20.496341,\n",
       "  'LTL': 3.239803,\n",
       "  'LVL': 0.663697,\n",
       "  'LYD': 5.261138,\n",
       "  'MAD': 10.915683,\n",
       "  'MDL': 19.474243,\n",
       "  'MGA': 5023.67117,\n",
       "  'MKD': 61.509344,\n",
       "  'MMK': 2304.042333,\n",
       "  'MNT': 3753.573102,\n",
       "  'MOP': 8.838334,\n",
       "  'MRU': 43.471598,\n",
       "  'MUR': 48.485902,\n",
       "  'MVR': 16.911279,\n",
       "  'MWK': 1846.620014,\n",
       "  'MXN': 18.63709,\n",
       "  'MYR': 5.09494,\n",
       "  'MZN': 69.399053,\n",
       "  'NAD': 20.496044,\n",
       "  'NGN': 1043.992598,\n",
       "  'NIO': 40.172965,\n",
       "  'NOK': 11.352805,\n",
       "  'NPR': 145.725555,\n",
       "  'NZD': 1.761752,\n",
       "  'OMR': 0.422291,\n",
       "  'PAB': 1.097139,\n",
       "  'PEN': 4.06794,\n",
       "  'PGK': 4.154652,\n",
       "  'PHP': 61.623081,\n",
       "  'PKR': 308.730012,\n",
       "  'PLN': 4.336993,\n",
       "  'PYG': 7993.534435,\n",
       "  'QAR': 3.995011,\n",
       "  'RON': 4.97238,\n",
       "  'RSD': 117.214221,\n",
       "  'RUB': 98.643911,\n",
       "  'RWF': 1391.273817,\n",
       "  'SAR': 4.11457,\n",
       "  'SBD': 9.275549,\n",
       "  'SCR': 14.36239,\n",
       "  'SDG': 659.428453,\n",
       "  'SEK': 11.21974,\n",
       "  'SGD': 1.461194,\n",
       "  'SHP': 1.393194,\n",
       "  'SLE': 24.506359,\n",
       "  'SLL': 21670.077652,\n",
       "  'SOS': 626.51205,\n",
       "  'SRD': 40.430324,\n",
       "  'STD': 22710.220056,\n",
       "  'SYP': 14265.832781,\n",
       "  'SZL': 20.496046,\n",
       "  'THB': 38.490714,\n",
       "  'TJS': 12.013756,\n",
       "  'TMT': 3.840267,\n",
       "  'TND': 3.398639,\n",
       "  'TOP': 2.576435,\n",
       "  'TRY': 32.771195,\n",
       "  'TTD': 7.444295,\n",
       "  'TWD': 34.166415,\n",
       "  'TZS': 2759.505684,\n",
       "  'UAH': 41.910377,\n",
       "  'UGX': 4168.646755,\n",
       "  'USD': 1.097219,\n",
       "  'UYU': 43.179924,\n",
       "  'UZS': 13544.343255,\n",
       "  'VEF': 3937825.261933,\n",
       "  'VES': 39.359697,\n",
       "  'VND': 26794.090378,\n",
       "  'VUV': 129.838117,\n",
       "  'WST': 2.973092,\n",
       "  'XAF': 657.478485,\n",
       "  'XAG': 0.047882,\n",
       "  'XAU': 0.000542,\n",
       "  'XCD': 2.965289,\n",
       "  'XDR': 0.822102,\n",
       "  'XOF': 657.478485,\n",
       "  'XPF': 119.331742,\n",
       "  'YER': 274.688671,\n",
       "  'ZAR': 20.464069,\n",
       "  'ZMK': 9876.292305,\n",
       "  'ZMW': 28.553336,\n",
       "  'ZWL': 353.304102}}"
      ]
     },
     "execution_count": 23,
     "metadata": {},
     "output_type": "execute_result"
    }
   ],
   "source": [
    "# ----------------------------------------------------------------------------------------\n",
    "# Extract the json-structured data from the request and saved it into the 'dict' variable.\n",
    "# ----------------------------------------------------------------------------------------\n",
    "\n",
    "dict = r.json()\n",
    "dict"
   ]
  },
  {
   "cell_type": "code",
   "execution_count": 24,
   "metadata": {},
   "outputs": [
    {
     "data": {
      "text/plain": [
       "dict_keys(['success', 'timestamp', 'base', 'date', 'rates'])"
      ]
     },
     "execution_count": 24,
     "metadata": {},
     "output_type": "execute_result"
    }
   ],
   "source": [
    "# Exploring the JSON with 'Keys()' and 'Type()' Methods\n",
    "dict.keys() "
   ]
  },
  {
   "cell_type": "code",
   "execution_count": 25,
   "metadata": {},
   "outputs": [
    {
     "data": {
      "text/plain": [
       "{'AED': 4.029979,\n",
       " 'AFN': 77.409134,\n",
       " 'ALL': 104.412575,\n",
       " 'AMD': 444.900544,\n",
       " 'ANG': 1.977294,\n",
       " 'AOA': 909.291778,\n",
       " 'ARS': 894.174616,\n",
       " 'AUD': 1.637106,\n",
       " 'AWG': 1.977737,\n",
       " 'AZN': 1.869187,\n",
       " 'BAM': 1.960336,\n",
       " 'BBD': 2.215226,\n",
       " 'BDT': 120.40864,\n",
       " 'BGN': 1.957843,\n",
       " 'BHD': 0.413566,\n",
       " 'BIF': 3134.754964,\n",
       " 'BMD': 1.097219,\n",
       " 'BND': 1.460379,\n",
       " 'BOB': 7.581614,\n",
       " 'BRL': 5.368577,\n",
       " 'BSD': 1.097139,\n",
       " 'BTC': 2.3174851e-05,\n",
       " 'BTN': 91.078497,\n",
       " 'BWP': 14.826378,\n",
       " 'BYN': 3.589907,\n",
       " 'BYR': 21505.494325,\n",
       " 'BZD': 2.211518,\n",
       " 'CAD': 1.468024,\n",
       " 'CDF': 2946.032995,\n",
       " 'CHF': 0.933399,\n",
       " 'CLF': 0.036452,\n",
       " 'CLP': 1005.810308,\n",
       " 'CNY': 7.868706,\n",
       " 'COP': 4319.20298,\n",
       " 'CRC': 571.728259,\n",
       " 'CUC': 1.097219,\n",
       " 'CUP': 29.076306,\n",
       " 'CVE': 110.682003,\n",
       " 'CZK': 24.576938,\n",
       " 'DJF': 194.997933,\n",
       " 'DKK': 7.457797,\n",
       " 'DOP': 64.299735,\n",
       " 'DZD': 147.58779,\n",
       " 'EGP': 33.900561,\n",
       " 'ERN': 16.458286,\n",
       " 'ETB': 62.042439,\n",
       " 'EUR': 1,\n",
       " 'FJD': 2.458594,\n",
       " 'FKP': 0.862769,\n",
       " 'GBP': 0.861239,\n",
       " 'GEL': 2.946029,\n",
       " 'GGP': 0.862769,\n",
       " 'GHS': 13.111844,\n",
       " 'GIP': 0.862769,\n",
       " 'GMD': 73.815399,\n",
       " 'GNF': 9386.709698,\n",
       " 'GTQ': 8.57388,\n",
       " 'GYD': 229.723702,\n",
       " 'HKD': 8.580967,\n",
       " 'HNL': 27.056612,\n",
       " 'HRK': 7.660532,\n",
       " 'HTG': 144.444262,\n",
       " 'HUF': 378.420114,\n",
       " 'IDR': 17067.243072,\n",
       " 'ILS': 4.102557,\n",
       " 'IMP': 0.862769,\n",
       " 'INR': 91.076372,\n",
       " 'IQD': 1437.357019,\n",
       " 'IRR': 46124.348722,\n",
       " 'ISK': 149.901848,\n",
       " 'JEP': 0.862769,\n",
       " 'JMD': 169.864636,\n",
       " 'JOD': 0.778363,\n",
       " 'JPY': 159.785761,\n",
       " 'KES': 174.458119,\n",
       " 'KGS': 98.000209,\n",
       " 'KHR': 4496.952946,\n",
       " 'KMF': 494.681375,\n",
       " 'KPW': 987.489222,\n",
       " 'KRW': 1446.551388,\n",
       " 'KWD': 0.337406,\n",
       " 'KYD': 0.91432,\n",
       " 'KZT': 498.485828,\n",
       " 'LAK': 22641.115783,\n",
       " 'LBP': 16529.605246,\n",
       " 'LKR': 354.39172,\n",
       " 'LRD': 207.319511,\n",
       " 'LSL': 20.496341,\n",
       " 'LTL': 3.239803,\n",
       " 'LVL': 0.663697,\n",
       " 'LYD': 5.261138,\n",
       " 'MAD': 10.915683,\n",
       " 'MDL': 19.474243,\n",
       " 'MGA': 5023.67117,\n",
       " 'MKD': 61.509344,\n",
       " 'MMK': 2304.042333,\n",
       " 'MNT': 3753.573102,\n",
       " 'MOP': 8.838334,\n",
       " 'MRU': 43.471598,\n",
       " 'MUR': 48.485902,\n",
       " 'MVR': 16.911279,\n",
       " 'MWK': 1846.620014,\n",
       " 'MXN': 18.63709,\n",
       " 'MYR': 5.09494,\n",
       " 'MZN': 69.399053,\n",
       " 'NAD': 20.496044,\n",
       " 'NGN': 1043.992598,\n",
       " 'NIO': 40.172965,\n",
       " 'NOK': 11.352805,\n",
       " 'NPR': 145.725555,\n",
       " 'NZD': 1.761752,\n",
       " 'OMR': 0.422291,\n",
       " 'PAB': 1.097139,\n",
       " 'PEN': 4.06794,\n",
       " 'PGK': 4.154652,\n",
       " 'PHP': 61.623081,\n",
       " 'PKR': 308.730012,\n",
       " 'PLN': 4.336993,\n",
       " 'PYG': 7993.534435,\n",
       " 'QAR': 3.995011,\n",
       " 'RON': 4.97238,\n",
       " 'RSD': 117.214221,\n",
       " 'RUB': 98.643911,\n",
       " 'RWF': 1391.273817,\n",
       " 'SAR': 4.11457,\n",
       " 'SBD': 9.275549,\n",
       " 'SCR': 14.36239,\n",
       " 'SDG': 659.428453,\n",
       " 'SEK': 11.21974,\n",
       " 'SGD': 1.461194,\n",
       " 'SHP': 1.393194,\n",
       " 'SLE': 24.506359,\n",
       " 'SLL': 21670.077652,\n",
       " 'SOS': 626.51205,\n",
       " 'SRD': 40.430324,\n",
       " 'STD': 22710.220056,\n",
       " 'SYP': 14265.832781,\n",
       " 'SZL': 20.496046,\n",
       " 'THB': 38.490714,\n",
       " 'TJS': 12.013756,\n",
       " 'TMT': 3.840267,\n",
       " 'TND': 3.398639,\n",
       " 'TOP': 2.576435,\n",
       " 'TRY': 32.771195,\n",
       " 'TTD': 7.444295,\n",
       " 'TWD': 34.166415,\n",
       " 'TZS': 2759.505684,\n",
       " 'UAH': 41.910377,\n",
       " 'UGX': 4168.646755,\n",
       " 'USD': 1.097219,\n",
       " 'UYU': 43.179924,\n",
       " 'UZS': 13544.343255,\n",
       " 'VEF': 3937825.261933,\n",
       " 'VES': 39.359697,\n",
       " 'VND': 26794.090378,\n",
       " 'VUV': 129.838117,\n",
       " 'WST': 2.973092,\n",
       " 'XAF': 657.478485,\n",
       " 'XAG': 0.047882,\n",
       " 'XAU': 0.000542,\n",
       " 'XCD': 2.965289,\n",
       " 'XDR': 0.822102,\n",
       " 'XOF': 657.478485,\n",
       " 'XPF': 119.331742,\n",
       " 'YER': 274.688671,\n",
       " 'ZAR': 20.464069,\n",
       " 'ZMK': 9876.292305,\n",
       " 'ZMW': 28.553336,\n",
       " 'ZWL': 353.304102}"
      ]
     },
     "execution_count": 25,
     "metadata": {},
     "output_type": "execute_result"
    }
   ],
   "source": [
    "rates = dict['rates']\n",
    "rates"
   ]
  },
  {
   "cell_type": "code",
   "execution_count": 26,
   "metadata": {},
   "outputs": [
    {
     "data": {
      "text/html": [
       "<div>\n",
       "<style scoped>\n",
       "    .dataframe tbody tr th:only-of-type {\n",
       "        vertical-align: middle;\n",
       "    }\n",
       "\n",
       "    .dataframe tbody tr th {\n",
       "        vertical-align: top;\n",
       "    }\n",
       "\n",
       "    .dataframe thead th {\n",
       "        text-align: right;\n",
       "    }\n",
       "</style>\n",
       "<table border=\"1\" class=\"dataframe\">\n",
       "  <thead>\n",
       "    <tr style=\"text-align: right;\">\n",
       "      <th></th>\n",
       "      <th>success</th>\n",
       "      <th>timestamp</th>\n",
       "      <th>base</th>\n",
       "      <th>date</th>\n",
       "      <th>rates</th>\n",
       "    </tr>\n",
       "  </thead>\n",
       "  <tbody>\n",
       "    <tr>\n",
       "      <th>AED</th>\n",
       "      <td>True</td>\n",
       "      <td>1704928023</td>\n",
       "      <td>EUR</td>\n",
       "      <td>2024-01-10</td>\n",
       "      <td>4.029979</td>\n",
       "    </tr>\n",
       "    <tr>\n",
       "      <th>AFN</th>\n",
       "      <td>True</td>\n",
       "      <td>1704928023</td>\n",
       "      <td>EUR</td>\n",
       "      <td>2024-01-10</td>\n",
       "      <td>77.409134</td>\n",
       "    </tr>\n",
       "    <tr>\n",
       "      <th>ALL</th>\n",
       "      <td>True</td>\n",
       "      <td>1704928023</td>\n",
       "      <td>EUR</td>\n",
       "      <td>2024-01-10</td>\n",
       "      <td>104.412575</td>\n",
       "    </tr>\n",
       "    <tr>\n",
       "      <th>AMD</th>\n",
       "      <td>True</td>\n",
       "      <td>1704928023</td>\n",
       "      <td>EUR</td>\n",
       "      <td>2024-01-10</td>\n",
       "      <td>444.900544</td>\n",
       "    </tr>\n",
       "    <tr>\n",
       "      <th>ANG</th>\n",
       "      <td>True</td>\n",
       "      <td>1704928023</td>\n",
       "      <td>EUR</td>\n",
       "      <td>2024-01-10</td>\n",
       "      <td>1.977294</td>\n",
       "    </tr>\n",
       "    <tr>\n",
       "      <th>...</th>\n",
       "      <td>...</td>\n",
       "      <td>...</td>\n",
       "      <td>...</td>\n",
       "      <td>...</td>\n",
       "      <td>...</td>\n",
       "    </tr>\n",
       "    <tr>\n",
       "      <th>YER</th>\n",
       "      <td>True</td>\n",
       "      <td>1704928023</td>\n",
       "      <td>EUR</td>\n",
       "      <td>2024-01-10</td>\n",
       "      <td>274.688671</td>\n",
       "    </tr>\n",
       "    <tr>\n",
       "      <th>ZAR</th>\n",
       "      <td>True</td>\n",
       "      <td>1704928023</td>\n",
       "      <td>EUR</td>\n",
       "      <td>2024-01-10</td>\n",
       "      <td>20.464069</td>\n",
       "    </tr>\n",
       "    <tr>\n",
       "      <th>ZMK</th>\n",
       "      <td>True</td>\n",
       "      <td>1704928023</td>\n",
       "      <td>EUR</td>\n",
       "      <td>2024-01-10</td>\n",
       "      <td>9876.292305</td>\n",
       "    </tr>\n",
       "    <tr>\n",
       "      <th>ZMW</th>\n",
       "      <td>True</td>\n",
       "      <td>1704928023</td>\n",
       "      <td>EUR</td>\n",
       "      <td>2024-01-10</td>\n",
       "      <td>28.553336</td>\n",
       "    </tr>\n",
       "    <tr>\n",
       "      <th>ZWL</th>\n",
       "      <td>True</td>\n",
       "      <td>1704928023</td>\n",
       "      <td>EUR</td>\n",
       "      <td>2024-01-10</td>\n",
       "      <td>353.304102</td>\n",
       "    </tr>\n",
       "  </tbody>\n",
       "</table>\n",
       "<p>169 rows × 5 columns</p>\n",
       "</div>"
      ],
      "text/plain": [
       "     success   timestamp base        date        rates\n",
       "AED     True  1704928023  EUR  2024-01-10     4.029979\n",
       "AFN     True  1704928023  EUR  2024-01-10    77.409134\n",
       "ALL     True  1704928023  EUR  2024-01-10   104.412575\n",
       "AMD     True  1704928023  EUR  2024-01-10   444.900544\n",
       "ANG     True  1704928023  EUR  2024-01-10     1.977294\n",
       "..       ...         ...  ...         ...          ...\n",
       "YER     True  1704928023  EUR  2024-01-10   274.688671\n",
       "ZAR     True  1704928023  EUR  2024-01-10    20.464069\n",
       "ZMK     True  1704928023  EUR  2024-01-10  9876.292305\n",
       "ZMW     True  1704928023  EUR  2024-01-10    28.553336\n",
       "ZWL     True  1704928023  EUR  2024-01-10   353.304102\n",
       "\n",
       "[169 rows x 5 columns]"
      ]
     },
     "execution_count": 26,
     "metadata": {},
     "output_type": "execute_result"
    }
   ],
   "source": [
    "# ------------------------------------------------\n",
    "# Convert JSON to a pandas Dataframe\n",
    "# ------------------------------------------------\n",
    "\n",
    "df_global = pd.DataFrame.from_dict(dict)\n",
    "df_global\n",
    "\n",
    "# or\n",
    "# df_rates = pd.DataFrame(json['rates'])"
   ]
  },
  {
   "cell_type": "code",
   "execution_count": 27,
   "metadata": {},
   "outputs": [
    {
     "data": {
      "text/html": [
       "<div>\n",
       "<style scoped>\n",
       "    .dataframe tbody tr th:only-of-type {\n",
       "        vertical-align: middle;\n",
       "    }\n",
       "\n",
       "    .dataframe tbody tr th {\n",
       "        vertical-align: top;\n",
       "    }\n",
       "\n",
       "    .dataframe thead th {\n",
       "        text-align: right;\n",
       "    }\n",
       "</style>\n",
       "<table border=\"1\" class=\"dataframe\">\n",
       "  <thead>\n",
       "    <tr style=\"text-align: right;\">\n",
       "      <th></th>\n",
       "      <th>rates</th>\n",
       "    </tr>\n",
       "  </thead>\n",
       "  <tbody>\n",
       "    <tr>\n",
       "      <th>AED</th>\n",
       "      <td>4.029979</td>\n",
       "    </tr>\n",
       "    <tr>\n",
       "      <th>AFN</th>\n",
       "      <td>77.409134</td>\n",
       "    </tr>\n",
       "    <tr>\n",
       "      <th>ALL</th>\n",
       "      <td>104.412575</td>\n",
       "    </tr>\n",
       "    <tr>\n",
       "      <th>AMD</th>\n",
       "      <td>444.900544</td>\n",
       "    </tr>\n",
       "    <tr>\n",
       "      <th>ANG</th>\n",
       "      <td>1.977294</td>\n",
       "    </tr>\n",
       "    <tr>\n",
       "      <th>...</th>\n",
       "      <td>...</td>\n",
       "    </tr>\n",
       "    <tr>\n",
       "      <th>YER</th>\n",
       "      <td>274.688671</td>\n",
       "    </tr>\n",
       "    <tr>\n",
       "      <th>ZAR</th>\n",
       "      <td>20.464069</td>\n",
       "    </tr>\n",
       "    <tr>\n",
       "      <th>ZMK</th>\n",
       "      <td>9876.292305</td>\n",
       "    </tr>\n",
       "    <tr>\n",
       "      <th>ZMW</th>\n",
       "      <td>28.553336</td>\n",
       "    </tr>\n",
       "    <tr>\n",
       "      <th>ZWL</th>\n",
       "      <td>353.304102</td>\n",
       "    </tr>\n",
       "  </tbody>\n",
       "</table>\n",
       "<p>169 rows × 1 columns</p>\n",
       "</div>"
      ],
      "text/plain": [
       "           rates\n",
       "AED     4.029979\n",
       "AFN    77.409134\n",
       "ALL   104.412575\n",
       "AMD   444.900544\n",
       "ANG     1.977294\n",
       "..           ...\n",
       "YER   274.688671\n",
       "ZAR    20.464069\n",
       "ZMK  9876.292305\n",
       "ZMW    28.553336\n",
       "ZWL   353.304102\n",
       "\n",
       "[169 rows x 1 columns]"
      ]
     },
     "execution_count": 27,
     "metadata": {},
     "output_type": "execute_result"
    }
   ],
   "source": [
    "# Drop unnescessary columns / Just select the \"rates\" variable\n",
    "df_rates = df_global[[\"rates\"]]\n",
    "df_rates"
   ]
  },
  {
   "cell_type": "markdown",
   "metadata": {},
   "source": [
    "### Load the Data into a CSV file"
   ]
  },
  {
   "cell_type": "code",
   "execution_count": null,
   "metadata": {},
   "outputs": [],
   "source": [
    "# Save the Dataframe in the data_cleaned folder\n",
    "df_rates.to_csv(\"data_cleaned\\exchange_rates.csv\")"
   ]
  },
  {
   "cell_type": "markdown",
   "metadata": {},
   "source": [
    "\n",
    "-----------------------\n",
    "### Author\n",
    "João Neto"
   ]
  }
 ],
 "metadata": {
  "kernelspec": {
   "display_name": "Python 3 (ipykernel)",
   "language": "python",
   "name": "python3"
  },
  "language_info": {
   "codemirror_mode": {
    "name": "ipython",
    "version": 3
   },
   "file_extension": ".py",
   "mimetype": "text/x-python",
   "name": "python",
   "nbconvert_exporter": "python",
   "pygments_lexer": "ipython3",
   "version": "3.9.13"
  },
  "varInspector": {
   "cols": {
    "lenName": 16,
    "lenType": 16,
    "lenVar": 40
   },
   "kernels_config": {
    "python": {
     "delete_cmd_postfix": "",
     "delete_cmd_prefix": "del ",
     "library": "var_list.py",
     "varRefreshCmd": "print(var_dic_list())"
    },
    "r": {
     "delete_cmd_postfix": ") ",
     "delete_cmd_prefix": "rm(",
     "library": "var_list.r",
     "varRefreshCmd": "cat(var_dic_list()) "
    }
   },
   "types_to_exclude": [
    "module",
    "function",
    "builtin_function_or_method",
    "instance",
    "_Feature"
   ],
   "window_display": false
  }
 },
 "nbformat": 4,
 "nbformat_minor": 4
}
