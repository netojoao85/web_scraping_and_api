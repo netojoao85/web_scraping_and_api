{
 "cells": [
  {
   "cell_type": "markdown",
   "metadata": {},
   "source": [
    "<p style=\"text-align:center\">\n",
    "    <a href=\"https://skills.network/?utm_medium=Exinfluencer&utm_source=Exinfluencer&utm_content=000026UJ&utm_term=10006555&utm_id=NA-SkillsNetwork-Channel-SkillsNetworkCoursesIBMDeveloperSkillsNetworkPY0221ENSkillsNetwork23455645-2022-01-01\" target=\"_blank\">\n",
    "    <img src=\"https://cf-courses-data.s3.us.cloud-object-storage.appdomain.cloud/assets/logos/SN_web_lightmode.png\" width=\"200\" alt=\"Skills Network Logo\"  />\n",
    "    </a>\n",
    "</p>\n"
   ]
  },
  {
   "cell_type": "markdown",
   "metadata": {},
   "source": [
    "# Peer Review Assignment - Data Engineer - Extract API Data\n"
   ]
  },
  {
   "cell_type": "markdown",
   "metadata": {},
   "source": [
    "Estimated time needed: **20** minutes\n"
   ]
  },
  {
   "cell_type": "markdown",
   "metadata": {},
   "source": [
    "## Objectives\n",
    "\n",
    "In this part you will:\n",
    "\n",
    "*   Collect exchange rate data using an API\n",
    "*   Store the data as a CSV\n"
   ]
  },
  {
   "cell_type": "markdown",
   "metadata": {},
   "source": [
    "For this lab, we are going to be using Python and several Python libraries. Some of these libraries might be installed in your lab environment or in SN Labs. Others may need to be installed by you. The cells below will install these libraries when executed.\n"
   ]
  },
  {
   "cell_type": "code",
   "execution_count": null,
   "metadata": {},
   "outputs": [],
   "source": [
    "#!mamba install pandas==1.3.3 -y\n",
    "#!mamba install requests==2.26.0 -y"
   ]
  },
  {
   "cell_type": "markdown",
   "metadata": {},
   "source": [
    "## Imports\n",
    "\n",
    "Import any additional libraries you may need here.\n"
   ]
  },
  {
   "cell_type": "code",
   "execution_count": 1,
   "metadata": {},
   "outputs": [],
   "source": [
    "import requests\n",
    "import pandas as pd"
   ]
  },
  {
   "cell_type": "markdown",
   "metadata": {},
   "source": [
    "## Extract Data Using an API\n"
   ]
  },
  {
   "cell_type": "markdown",
   "metadata": {},
   "source": [
    "Using ExchangeRate-API we will extract currency exchange rate data. Use the below steps to get the access key and to get the data.\n",
    "\n",
    "1.  Open the url : [https://exchangeratesapi.io/](https://exchangeratesapi.io/?utm_medium=Exinfluencer&utm_source=Exinfluencer&utm_content=000026UJ&utm_term=10006555&utm_id=NA-SkillsNetwork-Channel-SkillsNetworkCoursesIBMDeveloperSkillsNetworkPY0221ENSkillsNetwork23455645-2022-01-01) and click on **Get Free API Key**.\n",
    "2.  Subscribe for Free plan and Sign-in with the Google Account.\n",
    "3.  Once the account is created you will be redirected to [https://apilayer.com](https://apilayer.com/?utm_medium=Exinfluencer&utm_source=Exinfluencer&utm_content=000026UJ&utm_term=10006555&utm_id=NA-SkillsNetwork-Channel-SkillsNetworkCoursesIBMDeveloperSkillsNetworkPY0221ENSkillsNetwork23455645-2022-01-01) website.\n",
    "4.  Now, click on the **user icon** and click **Account** as shown below:\n",
    "\n",
    "<img src=\"https://cf-courses-data.s3.us.cloud-object-storage.appdomain.cloud/IBMDeveloperSkillsNetwork-PY0221EN-SkillsNetwork/labs/module%206/Final%20Assignment/Images/account.png\"/>\n",
    "\n",
    "3.  Scroll down and you will get the API Key section. Copy the API key and use in the url in Question 1.\n"
   ]
  },
  {
   "cell_type": "markdown",
   "metadata": {},
   "source": [
    "### Call the API\n",
    "\n",
    "<b> Question 1</b> Using the `requests` library call the endpoint given above and save the text, remember the first few characters of the output:\n"
   ]
  },
  {
   "cell_type": "code",
   "execution_count": 2,
   "metadata": {},
   "outputs": [],
   "source": [
    "# Write your code here\n",
    "url = \"https://api.apilayer.com/exchangerates_data/latest?base=EUR&apikey=AgeU5O7nLp9PPoycKPzMF07nKDcYy9Wu\" #Make sure to change ******* to your API key."
   ]
  },
  {
   "cell_type": "code",
   "execution_count": 3,
   "metadata": {},
   "outputs": [],
   "source": [
    "r = requests.get(url)"
   ]
  },
  {
   "cell_type": "code",
   "execution_count": 4,
   "metadata": {},
   "outputs": [
    {
     "data": {
      "text/plain": [
       "'{\\n    \"success\": true,\\n    \"timestamp\": 1704891423,\\n    \"base\": \"EUR\",\\n    \"date\": \"2024-01-10\",\\n    \"rates\": {\\n        \"AED\": 4.020227,\\n        \"AFN\": 77.224015,\\n        \"ALL\": 104.162878,\\n        \"AMD\": 443.836262,\\n        \"ANG\": 1.972565,\\n        \"AOA\": 907.117329,\\n        \"ARS\": 891.383563,\\n        \"AUD\": 1.632742,\\n        \"AWG\": 1.973008,\\n        \"AZN\": 1.859284,\\n        \"BAM\": 1.955648,\\n        \"BBD\": 2.209929,\\n        \"BDT\": 120.12069,\\n        \"BGN\": 1.954372,\\n        \"BHD\": 0.412572,\\n   '"
      ]
     },
     "execution_count": 4,
     "metadata": {},
     "output_type": "execute_result"
    }
   ],
   "source": [
    "r.text[0:500]"
   ]
  },
  {
   "cell_type": "code",
   "execution_count": 5,
   "metadata": {},
   "outputs": [
    {
     "name": "stdout",
     "output_type": "stream",
     "text": [
      "None\n"
     ]
    }
   ],
   "source": [
    "print(r.request.body)"
   ]
  },
  {
   "cell_type": "markdown",
   "metadata": {},
   "source": [
    "### Save as DataFrame\n",
    "\n",
    "<b> Question 2</b>  Using the data gathered turn it into a `pandas` dataframe. The dataframe should have the Currency as the index and `Rate` as their columns. Make sure to drop unnecessary columns.\n"
   ]
  },
  {
   "cell_type": "code",
   "execution_count": 6,
   "metadata": {},
   "outputs": [
    {
     "data": {
      "text/plain": [
       "{'success': True,\n",
       " 'timestamp': 1704891423,\n",
       " 'base': 'EUR',\n",
       " 'date': '2024-01-10',\n",
       " 'rates': {'AED': 4.020227,\n",
       "  'AFN': 77.224015,\n",
       "  'ALL': 104.162878,\n",
       "  'AMD': 443.836262,\n",
       "  'ANG': 1.972565,\n",
       "  'AOA': 907.117329,\n",
       "  'ARS': 891.383563,\n",
       "  'AUD': 1.632742,\n",
       "  'AWG': 1.973008,\n",
       "  'AZN': 1.859284,\n",
       "  'BAM': 1.955648,\n",
       "  'BBD': 2.209929,\n",
       "  'BDT': 120.12069,\n",
       "  'BGN': 1.954372,\n",
       "  'BHD': 0.412572,\n",
       "  'BIF': 3119.472472,\n",
       "  'BMD': 1.094595,\n",
       "  'BND': 1.456887,\n",
       "  'BOB': 7.563483,\n",
       "  'BRL': 5.350162,\n",
       "  'BSD': 1.094515,\n",
       "  'BTC': 2.4513478e-05,\n",
       "  'BTN': 90.860688,\n",
       "  'BWP': 14.790921,\n",
       "  'BYN': 3.581322,\n",
       "  'BYR': 21454.065185,\n",
       "  'BZD': 2.206229,\n",
       "  'CAD': 1.464738,\n",
       "  'CDF': 2938.988317,\n",
       "  'CHF': 0.933542,\n",
       "  'CLF': 0.036315,\n",
       "  'CLP': 1002.036167,\n",
       "  'CNY': 7.847265,\n",
       "  'COP': 4320.783053,\n",
       "  'CRC': 570.361004,\n",
       "  'CUC': 1.094595,\n",
       "  'CUP': 29.006772,\n",
       "  'CVE': 110.256454,\n",
       "  'CZK': 24.566047,\n",
       "  'DJF': 194.875786,\n",
       "  'DKK': 7.458199,\n",
       "  'DOP': 64.115324,\n",
       "  'DZD': 147.261398,\n",
       "  'EGP': 33.819786,\n",
       "  'ERN': 16.418927,\n",
       "  'ETB': 61.894068,\n",
       "  'EUR': 1,\n",
       "  'FJD': 2.451016,\n",
       "  'FKP': 0.860706,\n",
       "  'GBP': 0.860286,\n",
       "  'GEL': 2.93898,\n",
       "  'GGP': 0.860706,\n",
       "  'GHS': 13.101104,\n",
       "  'GIP': 0.860706,\n",
       "  'GMD': 73.638902,\n",
       "  'GNF': 9408.270804,\n",
       "  'GTQ': 8.553376,\n",
       "  'GYD': 229.174331,\n",
       "  'HKD': 8.560336,\n",
       "  'HNL': 26.991908,\n",
       "  'HRK': 7.642212,\n",
       "  'HTG': 144.098832,\n",
       "  'HUF': 378.516486,\n",
       "  'IDR': 17029.711539,\n",
       "  'ILS': 4.118343,\n",
       "  'IMP': 0.860706,\n",
       "  'INR': 90.881502,\n",
       "  'IQD': 1433.788873,\n",
       "  'IRR': 46014.044077,\n",
       "  'ISK': 150.298478,\n",
       "  'JEP': 0.860706,\n",
       "  'JMD': 169.458414,\n",
       "  'JOD': 0.776507,\n",
       "  'JPY': 158.997645,\n",
       "  'KES': 173.186646,\n",
       "  'KGS': 97.76585,\n",
       "  'KHR': 4480.652723,\n",
       "  'KMF': 492.021059,\n",
       "  'KPW': 985.127699,\n",
       "  'KRW': 1443.891665,\n",
       "  'KWD': 0.336555,\n",
       "  'KYD': 0.912133,\n",
       "  'KZT': 497.293728,\n",
       "  'LAK': 22575.456516,\n",
       "  'LBP': 16450.675267,\n",
       "  'LKR': 353.544213,\n",
       "  'LRD': 206.686988,\n",
       "  'LSL': 20.356736,\n",
       "  'LTL': 3.232055,\n",
       "  'LVL': 0.662109,\n",
       "  'LYD': 5.259592,\n",
       "  'MAD': 10.907254,\n",
       "  'MDL': 19.427672,\n",
       "  'MGA': 5011.657353,\n",
       "  'MKD': 61.525127,\n",
       "  'MMK': 2298.53235,\n",
       "  'MNT': 3744.59665,\n",
       "  'MOP': 8.817197,\n",
       "  'MRU': 43.400992,\n",
       "  'MUR': 48.369764,\n",
       "  'MVR': 16.867525,\n",
       "  'MWK': 1842.47403,\n",
       "  'MXN': 18.574831,\n",
       "  'MYR': 5.080564,\n",
       "  'MZN': 69.233089,\n",
       "  'NAD': 20.359701,\n",
       "  'NGN': 1000.931148,\n",
       "  'NIO': 40.076894,\n",
       "  'NOK': 11.303698,\n",
       "  'NPR': 145.377061,\n",
       "  'NZD': 1.755544,\n",
       "  'OMR': 0.421293,\n",
       "  'PAB': 1.094515,\n",
       "  'PEN': 4.061204,\n",
       "  'PGK': 4.144717,\n",
       "  'PHP': 61.486711,\n",
       "  'PKR': 307.780457,\n",
       "  'PLN': 4.340701,\n",
       "  'PYG': 7974.418363,\n",
       "  'QAR': 3.98597,\n",
       "  'RON': 4.9722,\n",
       "  'RSD': 117.228961,\n",
       "  'RUB': 99.501063,\n",
       "  'RWF': 1384.199039,\n",
       "  'SAR': 4.105076,\n",
       "  'SBD': 9.253368,\n",
       "  'SCR': 14.494598,\n",
       "  'SDG': 657.851612,\n",
       "  'SEK': 11.200959,\n",
       "  'SGD': 1.457207,\n",
       "  'SHP': 1.396047,\n",
       "  'SLE': 24.447754,\n",
       "  'SLL': 21618.254761,\n",
       "  'SOS': 625.013863,\n",
       "  'SRD': 40.3205,\n",
       "  'STD': 22655.909885,\n",
       "  'SYP': 14231.716871,\n",
       "  'SZL': 20.387513,\n",
       "  'THB': 38.348591,\n",
       "  'TJS': 11.985026,\n",
       "  'TMT': 3.842029,\n",
       "  'TND': 3.386697,\n",
       "  'TOP': 2.570274,\n",
       "  'TRY': 32.808741,\n",
       "  'TTD': 7.426492,\n",
       "  'TWD': 34.06107,\n",
       "  'TZS': 2747.433796,\n",
       "  'UAH': 41.81015,\n",
       "  'UGX': 4158.677678,\n",
       "  'USD': 1.094595,\n",
       "  'UYU': 43.076661,\n",
       "  'UZS': 13511.952745,\n",
       "  'VEF': 3928408.181791,\n",
       "  'VES': 39.28898,\n",
       "  'VND': 26730.013869,\n",
       "  'VUV': 129.527617,\n",
       "  'WST': 2.965982,\n",
       "  'XAF': 655.906163,\n",
       "  'XAG': 0.047702,\n",
       "  'XAU': 0.000539,\n",
       "  'XCD': 2.958198,\n",
       "  'XDR': 0.820136,\n",
       "  'XOF': 655.906163,\n",
       "  'XPF': 119.331742,\n",
       "  'YER': 274.031855,\n",
       "  'ZAR': 20.420874,\n",
       "  'ZMK': 9852.668348,\n",
       "  'ZMW': 28.485052,\n",
       "  'ZWL': 352.459196}}"
      ]
     },
     "execution_count": 6,
     "metadata": {},
     "output_type": "execute_result"
    }
   ],
   "source": [
    "# Turn the data into a dataframe\n",
    "dict = r.json()\n",
    "dict"
   ]
  },
  {
   "cell_type": "code",
   "execution_count": 7,
   "metadata": {},
   "outputs": [
    {
     "data": {
      "text/plain": [
       "dict_keys(['success', 'timestamp', 'base', 'date', 'rates'])"
      ]
     },
     "execution_count": 7,
     "metadata": {},
     "output_type": "execute_result"
    }
   ],
   "source": [
    "dict.keys()"
   ]
  },
  {
   "cell_type": "code",
   "execution_count": 8,
   "metadata": {},
   "outputs": [
    {
     "data": {
      "text/plain": [
       "{'AED': 4.020227,\n",
       " 'AFN': 77.224015,\n",
       " 'ALL': 104.162878,\n",
       " 'AMD': 443.836262,\n",
       " 'ANG': 1.972565,\n",
       " 'AOA': 907.117329,\n",
       " 'ARS': 891.383563,\n",
       " 'AUD': 1.632742,\n",
       " 'AWG': 1.973008,\n",
       " 'AZN': 1.859284,\n",
       " 'BAM': 1.955648,\n",
       " 'BBD': 2.209929,\n",
       " 'BDT': 120.12069,\n",
       " 'BGN': 1.954372,\n",
       " 'BHD': 0.412572,\n",
       " 'BIF': 3119.472472,\n",
       " 'BMD': 1.094595,\n",
       " 'BND': 1.456887,\n",
       " 'BOB': 7.563483,\n",
       " 'BRL': 5.350162,\n",
       " 'BSD': 1.094515,\n",
       " 'BTC': 2.4513478e-05,\n",
       " 'BTN': 90.860688,\n",
       " 'BWP': 14.790921,\n",
       " 'BYN': 3.581322,\n",
       " 'BYR': 21454.065185,\n",
       " 'BZD': 2.206229,\n",
       " 'CAD': 1.464738,\n",
       " 'CDF': 2938.988317,\n",
       " 'CHF': 0.933542,\n",
       " 'CLF': 0.036315,\n",
       " 'CLP': 1002.036167,\n",
       " 'CNY': 7.847265,\n",
       " 'COP': 4320.783053,\n",
       " 'CRC': 570.361004,\n",
       " 'CUC': 1.094595,\n",
       " 'CUP': 29.006772,\n",
       " 'CVE': 110.256454,\n",
       " 'CZK': 24.566047,\n",
       " 'DJF': 194.875786,\n",
       " 'DKK': 7.458199,\n",
       " 'DOP': 64.115324,\n",
       " 'DZD': 147.261398,\n",
       " 'EGP': 33.819786,\n",
       " 'ERN': 16.418927,\n",
       " 'ETB': 61.894068,\n",
       " 'EUR': 1,\n",
       " 'FJD': 2.451016,\n",
       " 'FKP': 0.860706,\n",
       " 'GBP': 0.860286,\n",
       " 'GEL': 2.93898,\n",
       " 'GGP': 0.860706,\n",
       " 'GHS': 13.101104,\n",
       " 'GIP': 0.860706,\n",
       " 'GMD': 73.638902,\n",
       " 'GNF': 9408.270804,\n",
       " 'GTQ': 8.553376,\n",
       " 'GYD': 229.174331,\n",
       " 'HKD': 8.560336,\n",
       " 'HNL': 26.991908,\n",
       " 'HRK': 7.642212,\n",
       " 'HTG': 144.098832,\n",
       " 'HUF': 378.516486,\n",
       " 'IDR': 17029.711539,\n",
       " 'ILS': 4.118343,\n",
       " 'IMP': 0.860706,\n",
       " 'INR': 90.881502,\n",
       " 'IQD': 1433.788873,\n",
       " 'IRR': 46014.044077,\n",
       " 'ISK': 150.298478,\n",
       " 'JEP': 0.860706,\n",
       " 'JMD': 169.458414,\n",
       " 'JOD': 0.776507,\n",
       " 'JPY': 158.997645,\n",
       " 'KES': 173.186646,\n",
       " 'KGS': 97.76585,\n",
       " 'KHR': 4480.652723,\n",
       " 'KMF': 492.021059,\n",
       " 'KPW': 985.127699,\n",
       " 'KRW': 1443.891665,\n",
       " 'KWD': 0.336555,\n",
       " 'KYD': 0.912133,\n",
       " 'KZT': 497.293728,\n",
       " 'LAK': 22575.456516,\n",
       " 'LBP': 16450.675267,\n",
       " 'LKR': 353.544213,\n",
       " 'LRD': 206.686988,\n",
       " 'LSL': 20.356736,\n",
       " 'LTL': 3.232055,\n",
       " 'LVL': 0.662109,\n",
       " 'LYD': 5.259592,\n",
       " 'MAD': 10.907254,\n",
       " 'MDL': 19.427672,\n",
       " 'MGA': 5011.657353,\n",
       " 'MKD': 61.525127,\n",
       " 'MMK': 2298.53235,\n",
       " 'MNT': 3744.59665,\n",
       " 'MOP': 8.817197,\n",
       " 'MRU': 43.400992,\n",
       " 'MUR': 48.369764,\n",
       " 'MVR': 16.867525,\n",
       " 'MWK': 1842.47403,\n",
       " 'MXN': 18.574831,\n",
       " 'MYR': 5.080564,\n",
       " 'MZN': 69.233089,\n",
       " 'NAD': 20.359701,\n",
       " 'NGN': 1000.931148,\n",
       " 'NIO': 40.076894,\n",
       " 'NOK': 11.303698,\n",
       " 'NPR': 145.377061,\n",
       " 'NZD': 1.755544,\n",
       " 'OMR': 0.421293,\n",
       " 'PAB': 1.094515,\n",
       " 'PEN': 4.061204,\n",
       " 'PGK': 4.144717,\n",
       " 'PHP': 61.486711,\n",
       " 'PKR': 307.780457,\n",
       " 'PLN': 4.340701,\n",
       " 'PYG': 7974.418363,\n",
       " 'QAR': 3.98597,\n",
       " 'RON': 4.9722,\n",
       " 'RSD': 117.228961,\n",
       " 'RUB': 99.501063,\n",
       " 'RWF': 1384.199039,\n",
       " 'SAR': 4.105076,\n",
       " 'SBD': 9.253368,\n",
       " 'SCR': 14.494598,\n",
       " 'SDG': 657.851612,\n",
       " 'SEK': 11.200959,\n",
       " 'SGD': 1.457207,\n",
       " 'SHP': 1.396047,\n",
       " 'SLE': 24.447754,\n",
       " 'SLL': 21618.254761,\n",
       " 'SOS': 625.013863,\n",
       " 'SRD': 40.3205,\n",
       " 'STD': 22655.909885,\n",
       " 'SYP': 14231.716871,\n",
       " 'SZL': 20.387513,\n",
       " 'THB': 38.348591,\n",
       " 'TJS': 11.985026,\n",
       " 'TMT': 3.842029,\n",
       " 'TND': 3.386697,\n",
       " 'TOP': 2.570274,\n",
       " 'TRY': 32.808741,\n",
       " 'TTD': 7.426492,\n",
       " 'TWD': 34.06107,\n",
       " 'TZS': 2747.433796,\n",
       " 'UAH': 41.81015,\n",
       " 'UGX': 4158.677678,\n",
       " 'USD': 1.094595,\n",
       " 'UYU': 43.076661,\n",
       " 'UZS': 13511.952745,\n",
       " 'VEF': 3928408.181791,\n",
       " 'VES': 39.28898,\n",
       " 'VND': 26730.013869,\n",
       " 'VUV': 129.527617,\n",
       " 'WST': 2.965982,\n",
       " 'XAF': 655.906163,\n",
       " 'XAG': 0.047702,\n",
       " 'XAU': 0.000539,\n",
       " 'XCD': 2.958198,\n",
       " 'XDR': 0.820136,\n",
       " 'XOF': 655.906163,\n",
       " 'XPF': 119.331742,\n",
       " 'YER': 274.031855,\n",
       " 'ZAR': 20.420874,\n",
       " 'ZMK': 9852.668348,\n",
       " 'ZMW': 28.485052,\n",
       " 'ZWL': 352.459196}"
      ]
     },
     "execution_count": 8,
     "metadata": {},
     "output_type": "execute_result"
    }
   ],
   "source": [
    "rates = dict['rates']\n",
    "rates"
   ]
  },
  {
   "cell_type": "code",
   "execution_count": 9,
   "metadata": {},
   "outputs": [
    {
     "data": {
      "text/html": [
       "<div>\n",
       "<style scoped>\n",
       "    .dataframe tbody tr th:only-of-type {\n",
       "        vertical-align: middle;\n",
       "    }\n",
       "\n",
       "    .dataframe tbody tr th {\n",
       "        vertical-align: top;\n",
       "    }\n",
       "\n",
       "    .dataframe thead th {\n",
       "        text-align: right;\n",
       "    }\n",
       "</style>\n",
       "<table border=\"1\" class=\"dataframe\">\n",
       "  <thead>\n",
       "    <tr style=\"text-align: right;\">\n",
       "      <th></th>\n",
       "      <th>success</th>\n",
       "      <th>timestamp</th>\n",
       "      <th>base</th>\n",
       "      <th>date</th>\n",
       "      <th>rates</th>\n",
       "    </tr>\n",
       "  </thead>\n",
       "  <tbody>\n",
       "    <tr>\n",
       "      <th>AED</th>\n",
       "      <td>True</td>\n",
       "      <td>1704891423</td>\n",
       "      <td>EUR</td>\n",
       "      <td>2024-01-10</td>\n",
       "      <td>4.020227</td>\n",
       "    </tr>\n",
       "    <tr>\n",
       "      <th>AFN</th>\n",
       "      <td>True</td>\n",
       "      <td>1704891423</td>\n",
       "      <td>EUR</td>\n",
       "      <td>2024-01-10</td>\n",
       "      <td>77.224015</td>\n",
       "    </tr>\n",
       "    <tr>\n",
       "      <th>ALL</th>\n",
       "      <td>True</td>\n",
       "      <td>1704891423</td>\n",
       "      <td>EUR</td>\n",
       "      <td>2024-01-10</td>\n",
       "      <td>104.162878</td>\n",
       "    </tr>\n",
       "    <tr>\n",
       "      <th>AMD</th>\n",
       "      <td>True</td>\n",
       "      <td>1704891423</td>\n",
       "      <td>EUR</td>\n",
       "      <td>2024-01-10</td>\n",
       "      <td>443.836262</td>\n",
       "    </tr>\n",
       "    <tr>\n",
       "      <th>ANG</th>\n",
       "      <td>True</td>\n",
       "      <td>1704891423</td>\n",
       "      <td>EUR</td>\n",
       "      <td>2024-01-10</td>\n",
       "      <td>1.972565</td>\n",
       "    </tr>\n",
       "    <tr>\n",
       "      <th>...</th>\n",
       "      <td>...</td>\n",
       "      <td>...</td>\n",
       "      <td>...</td>\n",
       "      <td>...</td>\n",
       "      <td>...</td>\n",
       "    </tr>\n",
       "    <tr>\n",
       "      <th>YER</th>\n",
       "      <td>True</td>\n",
       "      <td>1704891423</td>\n",
       "      <td>EUR</td>\n",
       "      <td>2024-01-10</td>\n",
       "      <td>274.031855</td>\n",
       "    </tr>\n",
       "    <tr>\n",
       "      <th>ZAR</th>\n",
       "      <td>True</td>\n",
       "      <td>1704891423</td>\n",
       "      <td>EUR</td>\n",
       "      <td>2024-01-10</td>\n",
       "      <td>20.420874</td>\n",
       "    </tr>\n",
       "    <tr>\n",
       "      <th>ZMK</th>\n",
       "      <td>True</td>\n",
       "      <td>1704891423</td>\n",
       "      <td>EUR</td>\n",
       "      <td>2024-01-10</td>\n",
       "      <td>9852.668348</td>\n",
       "    </tr>\n",
       "    <tr>\n",
       "      <th>ZMW</th>\n",
       "      <td>True</td>\n",
       "      <td>1704891423</td>\n",
       "      <td>EUR</td>\n",
       "      <td>2024-01-10</td>\n",
       "      <td>28.485052</td>\n",
       "    </tr>\n",
       "    <tr>\n",
       "      <th>ZWL</th>\n",
       "      <td>True</td>\n",
       "      <td>1704891423</td>\n",
       "      <td>EUR</td>\n",
       "      <td>2024-01-10</td>\n",
       "      <td>352.459196</td>\n",
       "    </tr>\n",
       "  </tbody>\n",
       "</table>\n",
       "<p>169 rows × 5 columns</p>\n",
       "</div>"
      ],
      "text/plain": [
       "     success   timestamp base        date        rates\n",
       "AED     True  1704891423  EUR  2024-01-10     4.020227\n",
       "AFN     True  1704891423  EUR  2024-01-10    77.224015\n",
       "ALL     True  1704891423  EUR  2024-01-10   104.162878\n",
       "AMD     True  1704891423  EUR  2024-01-10   443.836262\n",
       "ANG     True  1704891423  EUR  2024-01-10     1.972565\n",
       "..       ...         ...  ...         ...          ...\n",
       "YER     True  1704891423  EUR  2024-01-10   274.031855\n",
       "ZAR     True  1704891423  EUR  2024-01-10    20.420874\n",
       "ZMK     True  1704891423  EUR  2024-01-10  9852.668348\n",
       "ZMW     True  1704891423  EUR  2024-01-10    28.485052\n",
       "ZWL     True  1704891423  EUR  2024-01-10   352.459196\n",
       "\n",
       "[169 rows x 5 columns]"
      ]
     },
     "execution_count": 9,
     "metadata": {},
     "output_type": "execute_result"
    }
   ],
   "source": [
    "df_global = pd.DataFrame.from_dict(dict)\n",
    "df_global"
   ]
  },
  {
   "cell_type": "code",
   "execution_count": 10,
   "metadata": {},
   "outputs": [
    {
     "data": {
      "text/html": [
       "<div>\n",
       "<style scoped>\n",
       "    .dataframe tbody tr th:only-of-type {\n",
       "        vertical-align: middle;\n",
       "    }\n",
       "\n",
       "    .dataframe tbody tr th {\n",
       "        vertical-align: top;\n",
       "    }\n",
       "\n",
       "    .dataframe thead th {\n",
       "        text-align: right;\n",
       "    }\n",
       "</style>\n",
       "<table border=\"1\" class=\"dataframe\">\n",
       "  <thead>\n",
       "    <tr style=\"text-align: right;\">\n",
       "      <th></th>\n",
       "      <th>rates</th>\n",
       "    </tr>\n",
       "  </thead>\n",
       "  <tbody>\n",
       "    <tr>\n",
       "      <th>AED</th>\n",
       "      <td>4.020227</td>\n",
       "    </tr>\n",
       "    <tr>\n",
       "      <th>AFN</th>\n",
       "      <td>77.224015</td>\n",
       "    </tr>\n",
       "    <tr>\n",
       "      <th>ALL</th>\n",
       "      <td>104.162878</td>\n",
       "    </tr>\n",
       "    <tr>\n",
       "      <th>AMD</th>\n",
       "      <td>443.836262</td>\n",
       "    </tr>\n",
       "    <tr>\n",
       "      <th>ANG</th>\n",
       "      <td>1.972565</td>\n",
       "    </tr>\n",
       "    <tr>\n",
       "      <th>...</th>\n",
       "      <td>...</td>\n",
       "    </tr>\n",
       "    <tr>\n",
       "      <th>YER</th>\n",
       "      <td>274.031855</td>\n",
       "    </tr>\n",
       "    <tr>\n",
       "      <th>ZAR</th>\n",
       "      <td>20.420874</td>\n",
       "    </tr>\n",
       "    <tr>\n",
       "      <th>ZMK</th>\n",
       "      <td>9852.668348</td>\n",
       "    </tr>\n",
       "    <tr>\n",
       "      <th>ZMW</th>\n",
       "      <td>28.485052</td>\n",
       "    </tr>\n",
       "    <tr>\n",
       "      <th>ZWL</th>\n",
       "      <td>352.459196</td>\n",
       "    </tr>\n",
       "  </tbody>\n",
       "</table>\n",
       "<p>169 rows × 1 columns</p>\n",
       "</div>"
      ],
      "text/plain": [
       "           rates\n",
       "AED     4.020227\n",
       "AFN    77.224015\n",
       "ALL   104.162878\n",
       "AMD   443.836262\n",
       "ANG     1.972565\n",
       "..           ...\n",
       "YER   274.031855\n",
       "ZAR    20.420874\n",
       "ZMK  9852.668348\n",
       "ZMW    28.485052\n",
       "ZWL   352.459196\n",
       "\n",
       "[169 rows x 1 columns]"
      ]
     },
     "execution_count": 10,
     "metadata": {},
     "output_type": "execute_result"
    }
   ],
   "source": [
    "# Drop unnescessary columns\n",
    "df_rates = df_global[[\"rates\"]]\n",
    "df_rates"
   ]
  },
  {
   "cell_type": "markdown",
   "metadata": {},
   "source": [
    "### Load the Data\n",
    "\n",
    "Using the dataframe save it as a CSV names `exchange_rates_1.csv`.\n"
   ]
  },
  {
   "cell_type": "code",
   "execution_count": 11,
   "metadata": {},
   "outputs": [],
   "source": [
    "# Save the Dataframe\n",
    "df_rates.to_csv(\"exchange_rates.csv\")"
   ]
  },
  {
   "cell_type": "markdown",
   "metadata": {},
   "source": [
    "Your CSV should be in this format with more currencies\n",
    "\n",
    "|     | Rates      |\n",
    "| --- | ---------- |\n",
    "| AED | 4.398618   |\n",
    "| AFN | 92.917693  |\n",
    "| ALL | 123.099093 |\n",
    "| AMD | 621.935674 |\n",
    "| ANG | 2.149648   |\n"
   ]
  },
  {
   "cell_type": "markdown",
   "metadata": {},
   "source": [
    "## Authors\n"
   ]
  },
  {
   "cell_type": "markdown",
   "metadata": {},
   "source": [
    "Ramesh Sannareddy, Joseph Santarcangelo and Azim Hirjani\n"
   ]
  },
  {
   "cell_type": "markdown",
   "metadata": {},
   "source": [
    "### Other Contributors\n"
   ]
  },
  {
   "cell_type": "markdown",
   "metadata": {},
   "source": [
    "Rav Ahuja\n"
   ]
  },
  {
   "cell_type": "markdown",
   "metadata": {},
   "source": [
    "## Change Log\n"
   ]
  },
  {
   "cell_type": "markdown",
   "metadata": {},
   "source": [
    "| Date (YYYY-MM-DD) | Version | Changed By        | Change Description                              |\n",
    "| ----------------- | ------- | ----------------- | ----------------------------------------------- |\n",
    "| 2022-05-06        | 0.3     | Malika            | Updated instructions to get the API and the url |\n",
    "| 2021-04-15        | 0.2     | Malika            | Updated the lab from USD to EUR                 |\n",
    "| 2020-11-25        | 0.1     | Ramesh Sannareddy | Created initial version of the lab              |\n"
   ]
  },
  {
   "cell_type": "markdown",
   "metadata": {},
   "source": [
    "Copyright © 2020 IBM Corporation. This notebook and its source code are released under the terms of the [MIT License](https://cognitiveclass.ai/mit-license?utm_medium=Exinfluencer&utm_source=Exinfluencer&utm_content=000026UJ&utm_term=10006555&utm_id=NA-SkillsNetwork-Channel-SkillsNetworkCoursesIBMDeveloperSkillsNetworkPY0221ENSkillsNetwork23455645-2022-01-01&cm_mmc=Email_Newsletter-\\_-Developer_Ed%2BTech-\\_-WW_WW-\\_-SkillsNetwork-Courses-IBM-DA0321EN-SkillsNetwork-21426264&cm_mmca1=000026UJ&cm_mmca2=10006555&cm_mmca3=M12345678&cvosrc=email.Newsletter.M12345678&cvo_campaign=000026UJ).\n"
   ]
  }
 ],
 "metadata": {
  "kernelspec": {
   "display_name": "Python 3 (ipykernel)",
   "language": "python",
   "name": "python3"
  },
  "language_info": {
   "codemirror_mode": {
    "name": "ipython",
    "version": 3
   },
   "file_extension": ".py",
   "mimetype": "text/x-python",
   "name": "python",
   "nbconvert_exporter": "python",
   "pygments_lexer": "ipython3",
   "version": "3.9.13"
  },
  "varInspector": {
   "cols": {
    "lenName": 16,
    "lenType": 16,
    "lenVar": 40
   },
   "kernels_config": {
    "python": {
     "delete_cmd_postfix": "",
     "delete_cmd_prefix": "del ",
     "library": "var_list.py",
     "varRefreshCmd": "print(var_dic_list())"
    },
    "r": {
     "delete_cmd_postfix": ") ",
     "delete_cmd_prefix": "rm(",
     "library": "var_list.r",
     "varRefreshCmd": "cat(var_dic_list()) "
    }
   },
   "types_to_exclude": [
    "module",
    "function",
    "builtin_function_or_method",
    "instance",
    "_Feature"
   ],
   "window_display": false
  }
 },
 "nbformat": 4,
 "nbformat_minor": 4
}
