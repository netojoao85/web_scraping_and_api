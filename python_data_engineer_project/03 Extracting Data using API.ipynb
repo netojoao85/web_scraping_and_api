{
 "cells": [
  {
   "cell_type": "markdown",
   "metadata": {},
   "source": [
    "<p style=\"text-align:center\">\n",
    "    <a href=\"https://skills.network/?utm_medium=Exinfluencer&utm_source=Exinfluencer&utm_content=000026UJ&utm_term=10006555&utm_id=NA-SkillsNetwork-Channel-SkillsNetworkCoursesIBMDeveloperSkillsNetworkPY0221ENSkillsNetwork23455645-2022-01-01\" target=\"_blank\">\n",
    "    <img src=\"https://cf-courses-data.s3.us.cloud-object-storage.appdomain.cloud/assets/logos/SN_web_lightmode.png\" width=\"200\" alt=\"Skills Network Logo\"  />\n",
    "    </a>\n",
    "</p>\n"
   ]
  },
  {
   "cell_type": "markdown",
   "metadata": {},
   "source": [
    "# Peer Review Assignment - Data Engineer - Extract API Data\n"
   ]
  },
  {
   "cell_type": "markdown",
   "metadata": {},
   "source": [
    "Estimated time needed: **20** minutes\n"
   ]
  },
  {
   "cell_type": "markdown",
   "metadata": {},
   "source": [
    "## Objectives\n",
    "\n",
    "In this part you will:\n",
    "\n",
    "*   Collect exchange rate data using an API\n",
    "*   Store the data as a CSV\n"
   ]
  },
  {
   "cell_type": "markdown",
   "metadata": {},
   "source": [
    "For this lab, we are going to be using Python and several Python libraries. Some of these libraries might be installed in your lab environment or in SN Labs. Others may need to be installed by you. The cells below will install these libraries when executed.\n"
   ]
  },
  {
   "cell_type": "code",
   "execution_count": 1,
   "metadata": {},
   "outputs": [],
   "source": [
    "#!mamba install pandas==1.3.3 -y\n",
    "#!mamba install requests==2.26.0 -y"
   ]
  },
  {
   "cell_type": "markdown",
   "metadata": {},
   "source": [
    "## Imports\n",
    "\n",
    "Import any additional libraries you may need here.\n"
   ]
  },
  {
   "cell_type": "code",
   "execution_count": 2,
   "metadata": {},
   "outputs": [],
   "source": [
    "import requests\n",
    "import pandas as pd"
   ]
  },
  {
   "cell_type": "markdown",
   "metadata": {},
   "source": [
    "## Extract Data Using an API\n"
   ]
  },
  {
   "cell_type": "markdown",
   "metadata": {},
   "source": [
    "Using ExchangeRate-API we will extract currency exchange rate data. Use the below steps to get the access key and to get the data.\n",
    "\n",
    "1.  Open the url : [https://exchangeratesapi.io/](https://exchangeratesapi.io/?utm_medium=Exinfluencer&utm_source=Exinfluencer&utm_content=000026UJ&utm_term=10006555&utm_id=NA-SkillsNetwork-Channel-SkillsNetworkCoursesIBMDeveloperSkillsNetworkPY0221ENSkillsNetwork23455645-2022-01-01) and click on **Get Free API Key**.\n",
    "2.  Subscribe for Free plan and Sign-in with the Google Account.\n",
    "3.  Once the account is created you will be redirected to [https://apilayer.com](https://apilayer.com/?utm_medium=Exinfluencer&utm_source=Exinfluencer&utm_content=000026UJ&utm_term=10006555&utm_id=NA-SkillsNetwork-Channel-SkillsNetworkCoursesIBMDeveloperSkillsNetworkPY0221ENSkillsNetwork23455645-2022-01-01) website.\n",
    "4.  Now, click on the **user icon** and click **Account** as shown below:\n",
    "\n",
    "<img src=\"https://cf-courses-data.s3.us.cloud-object-storage.appdomain.cloud/IBMDeveloperSkillsNetwork-PY0221EN-SkillsNetwork/labs/module%206/Final%20Assignment/Images/account.png\"/>\n",
    "\n",
    "3.  Scroll down and you will get the API Key section. Copy the API key and use in the url in Question 1.\n"
   ]
  },
  {
   "cell_type": "markdown",
   "metadata": {},
   "source": [
    "### Call the API\n",
    "\n",
    "<b> Question 1</b> Using the `requests` library call the endpoint given above and save the text, remember the first few characters of the output:\n"
   ]
  },
  {
   "cell_type": "code",
   "execution_count": 3,
   "metadata": {},
   "outputs": [],
   "source": [
    "# Write your code here\n",
    "url = \"https://api.apilayer.com/exchangerates_data/latest?base=EUR&apikey=AgeU5O7nLp9PPoycKPzMF07nKDcYy9Wu\" #Make sure to change ******* to your API key."
   ]
  },
  {
   "cell_type": "code",
   "execution_count": 4,
   "metadata": {},
   "outputs": [],
   "source": [
    "r = requests.get(url)"
   ]
  },
  {
   "cell_type": "code",
   "execution_count": 5,
   "metadata": {},
   "outputs": [
    {
     "data": {
      "text/plain": [
       "'{\\n    \"success\": true,\\n    \"timestamp\": 1704813903,\\n    \"base\": \"EUR\",\\n    \"date\": \"2024-01-09\",\\n    \"rates\": {\\n        \"AED\": 4.017963,\\n        \"AFN\": 77.220225,\\n        \"ALL\": 104.420872,\\n        \"AMD\": 442.37315,\\n        \"ANG\": 1.970889,\\n        \"AOA\": 908.551272,\\n        \"ARS\": 890.877062,\\n        \"AUD\": 1.635635,\\n        \"AWG\": 1.971896,\\n        \"AZN\": 1.838298,\\n        \"BAM\": 1.956494,\\n        \"BBD\": 2.208044,\\n        \"BDT\": 120.012586,\\n        \"BGN\": 1.957268,\\n        \"BHD\": 0.412328,\\n   '"
      ]
     },
     "execution_count": 5,
     "metadata": {},
     "output_type": "execute_result"
    }
   ],
   "source": [
    "r.text[0:500]"
   ]
  },
  {
   "cell_type": "code",
   "execution_count": 6,
   "metadata": {},
   "outputs": [
    {
     "name": "stdout",
     "output_type": "stream",
     "text": [
      "None\n"
     ]
    }
   ],
   "source": [
    "print(r.request.body)"
   ]
  },
  {
   "cell_type": "markdown",
   "metadata": {},
   "source": [
    "### Save as DataFrame\n",
    "\n",
    "<b> Question 2</b>  Using the data gathered turn it into a `pandas` dataframe. The dataframe should have the Currency as the index and `Rate` as their columns. Make sure to drop unnecessary columns.\n"
   ]
  },
  {
   "cell_type": "code",
   "execution_count": 7,
   "metadata": {},
   "outputs": [
    {
     "data": {
      "text/plain": [
       "{'success': True,\n",
       " 'timestamp': 1704813903,\n",
       " 'base': 'EUR',\n",
       " 'date': '2024-01-09',\n",
       " 'rates': {'AED': 4.017963,\n",
       "  'AFN': 77.220225,\n",
       "  'ALL': 104.420872,\n",
       "  'AMD': 442.37315,\n",
       "  'ANG': 1.970889,\n",
       "  'AOA': 908.551272,\n",
       "  'ARS': 890.877062,\n",
       "  'AUD': 1.635635,\n",
       "  'AWG': 1.971896,\n",
       "  'AZN': 1.838298,\n",
       "  'BAM': 1.956494,\n",
       "  'BBD': 2.208044,\n",
       "  'BDT': 120.012586,\n",
       "  'BGN': 1.957268,\n",
       "  'BHD': 0.412328,\n",
       "  'BIF': 3116.519846,\n",
       "  'BMD': 1.093978,\n",
       "  'BND': 1.45587,\n",
       "  'BOB': 7.556958,\n",
       "  'BRL': 5.352403,\n",
       "  'BSD': 1.093618,\n",
       "  'BTC': 2.334141e-05,\n",
       "  'BTN': 90.980011,\n",
       "  'BWP': 14.807796,\n",
       "  'BYN': 3.578301,\n",
       "  'BYR': 21441.972661,\n",
       "  'BZD': 2.204363,\n",
       "  'CAD': 1.466472,\n",
       "  'CDF': 2937.331196,\n",
       "  'CHF': 0.931197,\n",
       "  'CLF': 0.036478,\n",
       "  'CLP': 1006.568528,\n",
       "  'CNY': 7.779262,\n",
       "  'COP': 4282.46517,\n",
       "  'CRC': 568.222409,\n",
       "  'CUC': 1.093978,\n",
       "  'CUP': 28.990422,\n",
       "  'CVE': 110.306159,\n",
       "  'CZK': 24.580627,\n",
       "  'DJF': 194.716214,\n",
       "  'DKK': 7.456906,\n",
       "  'DOP': 64.085084,\n",
       "  'DZD': 146.88295,\n",
       "  'EGP': 33.810818,\n",
       "  'ERN': 16.409673,\n",
       "  'ETB': 61.815095,\n",
       "  'EUR': 1,\n",
       "  'FJD': 2.445257,\n",
       "  'FKP': 0.857167,\n",
       "  'GBP': 0.860326,\n",
       "  'GEL': 2.937299,\n",
       "  'GGP': 0.857167,\n",
       "  'GHS': 13.0301,\n",
       "  'GIP': 0.857167,\n",
       "  'GMD': 73.597389,\n",
       "  'GNF': 9402.336409,\n",
       "  'GTQ': 8.554427,\n",
       "  'GYD': 228.789551,\n",
       "  'HKD': 8.549221,\n",
       "  'HNL': 26.96957,\n",
       "  'HRK': 7.637904,\n",
       "  'HTG': 144.036378,\n",
       "  'HUF': 379.312915,\n",
       "  'IDR': 16998.233225,\n",
       "  'ILS': 4.077202,\n",
       "  'IMP': 0.857167,\n",
       "  'INR': 90.915499,\n",
       "  'IQD': 1432.508324,\n",
       "  'IRR': 45988.109894,\n",
       "  'ISK': 150.310661,\n",
       "  'JEP': 0.857167,\n",
       "  'JMD': 168.887649,\n",
       "  'JOD': 0.776067,\n",
       "  'JPY': 157.286677,\n",
       "  'KES': 173.121501,\n",
       "  'KGS': 97.671797,\n",
       "  'KHR': 4480.753824,\n",
       "  'KMF': 491.73111,\n",
       "  'KPW': 984.560067,\n",
       "  'KRW': 1444.336014,\n",
       "  'KWD': 0.336332,\n",
       "  'KYD': 0.911357,\n",
       "  'KZT': 497.244628,\n",
       "  'LAK': 22538.821982,\n",
       "  'LBP': 16436.43343,\n",
       "  'LKR': 352.808094,\n",
       "  'LRD': 206.570405,\n",
       "  'LSL': 20.350801,\n",
       "  'LTL': 3.230233,\n",
       "  'LVL': 0.661736,\n",
       "  'LYD': 5.246862,\n",
       "  'MAD': 10.888262,\n",
       "  'MDL': 19.410598,\n",
       "  'MGA': 5001.95783,\n",
       "  'MKD': 61.498758,\n",
       "  'MMK': 2296.498879,\n",
       "  'MNT': 3745.728016,\n",
       "  'MOP': 8.802846,\n",
       "  'MRU': 43.376492,\n",
       "  'MUR': 49.430297,\n",
       "  'MVR': 16.858509,\n",
       "  'MWK': 1840.92056,\n",
       "  'MXN': 18.474261,\n",
       "  'MYR': 5.079887,\n",
       "  'MZN': 69.194066,\n",
       "  'NAD': 20.350807,\n",
       "  'NGN': 968.082941,\n",
       "  'NIO': 40.024203,\n",
       "  'NOK': 11.333012,\n",
       "  'NPR': 145.57064,\n",
       "  'NZD': 1.753461,\n",
       "  'OMR': 0.421112,\n",
       "  'PAB': 1.093628,\n",
       "  'PEN': 4.043383,\n",
       "  'PGK': 4.083598,\n",
       "  'PHP': 61.369439,\n",
       "  'PKR': 307.645192,\n",
       "  'PLN': 4.343113,\n",
       "  'PYG': 7949.111384,\n",
       "  'QAR': 3.983727,\n",
       "  'RON': 4.972245,\n",
       "  'RSD': 117.224141,\n",
       "  'RUB': 99.441343,\n",
       "  'RWF': 1382.841262,\n",
       "  'SAR': 4.102531,\n",
       "  'SBD': 9.248152,\n",
       "  'SCR': 14.540131,\n",
       "  'SDG': 657.481365,\n",
       "  'SEK': 11.212833,\n",
       "  'SGD': 1.45568,\n",
       "  'SHP': 1.395257,\n",
       "  'SLE': 24.631075,\n",
       "  'SLL': 21606.069118,\n",
       "  'SOS': 624.661343,\n",
       "  'SRD': 40.297803,\n",
       "  'STD': 22643.139945,\n",
       "  'SYP': 14223.783546,\n",
       "  'SZL': 20.460008,\n",
       "  'THB': 38.169112,\n",
       "  'TJS': 11.980189,\n",
       "  'TMT': 3.839863,\n",
       "  'TND': 3.384775,\n",
       "  'TOP': 2.565762,\n",
       "  'TRY': 32.754616,\n",
       "  'TTD': 7.422973,\n",
       "  'TWD': 33.968573,\n",
       "  'TZS': 2745.885013,\n",
       "  'UAH': 41.726332,\n",
       "  'UGX': 4155.588564,\n",
       "  'USD': 1.093978,\n",
       "  'UYU': 43.025464,\n",
       "  'UZS': 13548.80778,\n",
       "  'VEF': 3933889.834703,\n",
       "  'VES': 39.266834,\n",
       "  'VND': 26660.248661,\n",
       "  'VUV': 130.179088,\n",
       "  'WST': 2.966899,\n",
       "  'XAF': 656.21385,\n",
       "  'XAG': 0.047431,\n",
       "  'XAU': 0.000538,\n",
       "  'XCD': 2.956531,\n",
       "  'XDR': 0.819421,\n",
       "  'XOF': 656.201849,\n",
       "  'XPF': 119.331742,\n",
       "  'YER': 273.87735,\n",
       "  'ZAR': 20.34061,\n",
       "  'ZMK': 9847.123455,\n",
       "  'ZMW': 28.406119,\n",
       "  'ZWL': 352.260533}}"
      ]
     },
     "execution_count": 7,
     "metadata": {},
     "output_type": "execute_result"
    }
   ],
   "source": [
    "# Turn the data into a dataframe\n",
    "dict = r.json()\n",
    "dict"
   ]
  },
  {
   "cell_type": "code",
   "execution_count": 8,
   "metadata": {},
   "outputs": [
    {
     "data": {
      "text/plain": [
       "dict_keys(['success', 'timestamp', 'base', 'date', 'rates'])"
      ]
     },
     "execution_count": 8,
     "metadata": {},
     "output_type": "execute_result"
    }
   ],
   "source": [
    "dict.keys()"
   ]
  },
  {
   "cell_type": "code",
   "execution_count": 9,
   "metadata": {},
   "outputs": [
    {
     "data": {
      "text/plain": [
       "{'AED': 4.017963,\n",
       " 'AFN': 77.220225,\n",
       " 'ALL': 104.420872,\n",
       " 'AMD': 442.37315,\n",
       " 'ANG': 1.970889,\n",
       " 'AOA': 908.551272,\n",
       " 'ARS': 890.877062,\n",
       " 'AUD': 1.635635,\n",
       " 'AWG': 1.971896,\n",
       " 'AZN': 1.838298,\n",
       " 'BAM': 1.956494,\n",
       " 'BBD': 2.208044,\n",
       " 'BDT': 120.012586,\n",
       " 'BGN': 1.957268,\n",
       " 'BHD': 0.412328,\n",
       " 'BIF': 3116.519846,\n",
       " 'BMD': 1.093978,\n",
       " 'BND': 1.45587,\n",
       " 'BOB': 7.556958,\n",
       " 'BRL': 5.352403,\n",
       " 'BSD': 1.093618,\n",
       " 'BTC': 2.334141e-05,\n",
       " 'BTN': 90.980011,\n",
       " 'BWP': 14.807796,\n",
       " 'BYN': 3.578301,\n",
       " 'BYR': 21441.972661,\n",
       " 'BZD': 2.204363,\n",
       " 'CAD': 1.466472,\n",
       " 'CDF': 2937.331196,\n",
       " 'CHF': 0.931197,\n",
       " 'CLF': 0.036478,\n",
       " 'CLP': 1006.568528,\n",
       " 'CNY': 7.779262,\n",
       " 'COP': 4282.46517,\n",
       " 'CRC': 568.222409,\n",
       " 'CUC': 1.093978,\n",
       " 'CUP': 28.990422,\n",
       " 'CVE': 110.306159,\n",
       " 'CZK': 24.580627,\n",
       " 'DJF': 194.716214,\n",
       " 'DKK': 7.456906,\n",
       " 'DOP': 64.085084,\n",
       " 'DZD': 146.88295,\n",
       " 'EGP': 33.810818,\n",
       " 'ERN': 16.409673,\n",
       " 'ETB': 61.815095,\n",
       " 'EUR': 1,\n",
       " 'FJD': 2.445257,\n",
       " 'FKP': 0.857167,\n",
       " 'GBP': 0.860326,\n",
       " 'GEL': 2.937299,\n",
       " 'GGP': 0.857167,\n",
       " 'GHS': 13.0301,\n",
       " 'GIP': 0.857167,\n",
       " 'GMD': 73.597389,\n",
       " 'GNF': 9402.336409,\n",
       " 'GTQ': 8.554427,\n",
       " 'GYD': 228.789551,\n",
       " 'HKD': 8.549221,\n",
       " 'HNL': 26.96957,\n",
       " 'HRK': 7.637904,\n",
       " 'HTG': 144.036378,\n",
       " 'HUF': 379.312915,\n",
       " 'IDR': 16998.233225,\n",
       " 'ILS': 4.077202,\n",
       " 'IMP': 0.857167,\n",
       " 'INR': 90.915499,\n",
       " 'IQD': 1432.508324,\n",
       " 'IRR': 45988.109894,\n",
       " 'ISK': 150.310661,\n",
       " 'JEP': 0.857167,\n",
       " 'JMD': 168.887649,\n",
       " 'JOD': 0.776067,\n",
       " 'JPY': 157.286677,\n",
       " 'KES': 173.121501,\n",
       " 'KGS': 97.671797,\n",
       " 'KHR': 4480.753824,\n",
       " 'KMF': 491.73111,\n",
       " 'KPW': 984.560067,\n",
       " 'KRW': 1444.336014,\n",
       " 'KWD': 0.336332,\n",
       " 'KYD': 0.911357,\n",
       " 'KZT': 497.244628,\n",
       " 'LAK': 22538.821982,\n",
       " 'LBP': 16436.43343,\n",
       " 'LKR': 352.808094,\n",
       " 'LRD': 206.570405,\n",
       " 'LSL': 20.350801,\n",
       " 'LTL': 3.230233,\n",
       " 'LVL': 0.661736,\n",
       " 'LYD': 5.246862,\n",
       " 'MAD': 10.888262,\n",
       " 'MDL': 19.410598,\n",
       " 'MGA': 5001.95783,\n",
       " 'MKD': 61.498758,\n",
       " 'MMK': 2296.498879,\n",
       " 'MNT': 3745.728016,\n",
       " 'MOP': 8.802846,\n",
       " 'MRU': 43.376492,\n",
       " 'MUR': 49.430297,\n",
       " 'MVR': 16.858509,\n",
       " 'MWK': 1840.92056,\n",
       " 'MXN': 18.474261,\n",
       " 'MYR': 5.079887,\n",
       " 'MZN': 69.194066,\n",
       " 'NAD': 20.350807,\n",
       " 'NGN': 968.082941,\n",
       " 'NIO': 40.024203,\n",
       " 'NOK': 11.333012,\n",
       " 'NPR': 145.57064,\n",
       " 'NZD': 1.753461,\n",
       " 'OMR': 0.421112,\n",
       " 'PAB': 1.093628,\n",
       " 'PEN': 4.043383,\n",
       " 'PGK': 4.083598,\n",
       " 'PHP': 61.369439,\n",
       " 'PKR': 307.645192,\n",
       " 'PLN': 4.343113,\n",
       " 'PYG': 7949.111384,\n",
       " 'QAR': 3.983727,\n",
       " 'RON': 4.972245,\n",
       " 'RSD': 117.224141,\n",
       " 'RUB': 99.441343,\n",
       " 'RWF': 1382.841262,\n",
       " 'SAR': 4.102531,\n",
       " 'SBD': 9.248152,\n",
       " 'SCR': 14.540131,\n",
       " 'SDG': 657.481365,\n",
       " 'SEK': 11.212833,\n",
       " 'SGD': 1.45568,\n",
       " 'SHP': 1.395257,\n",
       " 'SLE': 24.631075,\n",
       " 'SLL': 21606.069118,\n",
       " 'SOS': 624.661343,\n",
       " 'SRD': 40.297803,\n",
       " 'STD': 22643.139945,\n",
       " 'SYP': 14223.783546,\n",
       " 'SZL': 20.460008,\n",
       " 'THB': 38.169112,\n",
       " 'TJS': 11.980189,\n",
       " 'TMT': 3.839863,\n",
       " 'TND': 3.384775,\n",
       " 'TOP': 2.565762,\n",
       " 'TRY': 32.754616,\n",
       " 'TTD': 7.422973,\n",
       " 'TWD': 33.968573,\n",
       " 'TZS': 2745.885013,\n",
       " 'UAH': 41.726332,\n",
       " 'UGX': 4155.588564,\n",
       " 'USD': 1.093978,\n",
       " 'UYU': 43.025464,\n",
       " 'UZS': 13548.80778,\n",
       " 'VEF': 3933889.834703,\n",
       " 'VES': 39.266834,\n",
       " 'VND': 26660.248661,\n",
       " 'VUV': 130.179088,\n",
       " 'WST': 2.966899,\n",
       " 'XAF': 656.21385,\n",
       " 'XAG': 0.047431,\n",
       " 'XAU': 0.000538,\n",
       " 'XCD': 2.956531,\n",
       " 'XDR': 0.819421,\n",
       " 'XOF': 656.201849,\n",
       " 'XPF': 119.331742,\n",
       " 'YER': 273.87735,\n",
       " 'ZAR': 20.34061,\n",
       " 'ZMK': 9847.123455,\n",
       " 'ZMW': 28.406119,\n",
       " 'ZWL': 352.260533}"
      ]
     },
     "execution_count": 9,
     "metadata": {},
     "output_type": "execute_result"
    }
   ],
   "source": [
    "rates = dict['rates']\n",
    "rates"
   ]
  },
  {
   "cell_type": "code",
   "execution_count": 10,
   "metadata": {},
   "outputs": [
    {
     "data": {
      "text/html": [
       "<div>\n",
       "<style scoped>\n",
       "    .dataframe tbody tr th:only-of-type {\n",
       "        vertical-align: middle;\n",
       "    }\n",
       "\n",
       "    .dataframe tbody tr th {\n",
       "        vertical-align: top;\n",
       "    }\n",
       "\n",
       "    .dataframe thead th {\n",
       "        text-align: right;\n",
       "    }\n",
       "</style>\n",
       "<table border=\"1\" class=\"dataframe\">\n",
       "  <thead>\n",
       "    <tr style=\"text-align: right;\">\n",
       "      <th></th>\n",
       "      <th>success</th>\n",
       "      <th>timestamp</th>\n",
       "      <th>base</th>\n",
       "      <th>date</th>\n",
       "      <th>rates</th>\n",
       "    </tr>\n",
       "  </thead>\n",
       "  <tbody>\n",
       "    <tr>\n",
       "      <th>AED</th>\n",
       "      <td>True</td>\n",
       "      <td>1704813903</td>\n",
       "      <td>EUR</td>\n",
       "      <td>2024-01-09</td>\n",
       "      <td>4.017963</td>\n",
       "    </tr>\n",
       "    <tr>\n",
       "      <th>AFN</th>\n",
       "      <td>True</td>\n",
       "      <td>1704813903</td>\n",
       "      <td>EUR</td>\n",
       "      <td>2024-01-09</td>\n",
       "      <td>77.220225</td>\n",
       "    </tr>\n",
       "    <tr>\n",
       "      <th>ALL</th>\n",
       "      <td>True</td>\n",
       "      <td>1704813903</td>\n",
       "      <td>EUR</td>\n",
       "      <td>2024-01-09</td>\n",
       "      <td>104.420872</td>\n",
       "    </tr>\n",
       "    <tr>\n",
       "      <th>AMD</th>\n",
       "      <td>True</td>\n",
       "      <td>1704813903</td>\n",
       "      <td>EUR</td>\n",
       "      <td>2024-01-09</td>\n",
       "      <td>442.373150</td>\n",
       "    </tr>\n",
       "    <tr>\n",
       "      <th>ANG</th>\n",
       "      <td>True</td>\n",
       "      <td>1704813903</td>\n",
       "      <td>EUR</td>\n",
       "      <td>2024-01-09</td>\n",
       "      <td>1.970889</td>\n",
       "    </tr>\n",
       "    <tr>\n",
       "      <th>...</th>\n",
       "      <td>...</td>\n",
       "      <td>...</td>\n",
       "      <td>...</td>\n",
       "      <td>...</td>\n",
       "      <td>...</td>\n",
       "    </tr>\n",
       "    <tr>\n",
       "      <th>YER</th>\n",
       "      <td>True</td>\n",
       "      <td>1704813903</td>\n",
       "      <td>EUR</td>\n",
       "      <td>2024-01-09</td>\n",
       "      <td>273.877350</td>\n",
       "    </tr>\n",
       "    <tr>\n",
       "      <th>ZAR</th>\n",
       "      <td>True</td>\n",
       "      <td>1704813903</td>\n",
       "      <td>EUR</td>\n",
       "      <td>2024-01-09</td>\n",
       "      <td>20.340610</td>\n",
       "    </tr>\n",
       "    <tr>\n",
       "      <th>ZMK</th>\n",
       "      <td>True</td>\n",
       "      <td>1704813903</td>\n",
       "      <td>EUR</td>\n",
       "      <td>2024-01-09</td>\n",
       "      <td>9847.123455</td>\n",
       "    </tr>\n",
       "    <tr>\n",
       "      <th>ZMW</th>\n",
       "      <td>True</td>\n",
       "      <td>1704813903</td>\n",
       "      <td>EUR</td>\n",
       "      <td>2024-01-09</td>\n",
       "      <td>28.406119</td>\n",
       "    </tr>\n",
       "    <tr>\n",
       "      <th>ZWL</th>\n",
       "      <td>True</td>\n",
       "      <td>1704813903</td>\n",
       "      <td>EUR</td>\n",
       "      <td>2024-01-09</td>\n",
       "      <td>352.260533</td>\n",
       "    </tr>\n",
       "  </tbody>\n",
       "</table>\n",
       "<p>169 rows × 5 columns</p>\n",
       "</div>"
      ],
      "text/plain": [
       "     success   timestamp base        date        rates\n",
       "AED     True  1704813903  EUR  2024-01-09     4.017963\n",
       "AFN     True  1704813903  EUR  2024-01-09    77.220225\n",
       "ALL     True  1704813903  EUR  2024-01-09   104.420872\n",
       "AMD     True  1704813903  EUR  2024-01-09   442.373150\n",
       "ANG     True  1704813903  EUR  2024-01-09     1.970889\n",
       "..       ...         ...  ...         ...          ...\n",
       "YER     True  1704813903  EUR  2024-01-09   273.877350\n",
       "ZAR     True  1704813903  EUR  2024-01-09    20.340610\n",
       "ZMK     True  1704813903  EUR  2024-01-09  9847.123455\n",
       "ZMW     True  1704813903  EUR  2024-01-09    28.406119\n",
       "ZWL     True  1704813903  EUR  2024-01-09   352.260533\n",
       "\n",
       "[169 rows x 5 columns]"
      ]
     },
     "execution_count": 10,
     "metadata": {},
     "output_type": "execute_result"
    }
   ],
   "source": [
    "df_global = pd.DataFrame.from_dict(dict)\n",
    "df_global"
   ]
  },
  {
   "cell_type": "code",
   "execution_count": 11,
   "metadata": {},
   "outputs": [
    {
     "data": {
      "text/html": [
       "<div>\n",
       "<style scoped>\n",
       "    .dataframe tbody tr th:only-of-type {\n",
       "        vertical-align: middle;\n",
       "    }\n",
       "\n",
       "    .dataframe tbody tr th {\n",
       "        vertical-align: top;\n",
       "    }\n",
       "\n",
       "    .dataframe thead th {\n",
       "        text-align: right;\n",
       "    }\n",
       "</style>\n",
       "<table border=\"1\" class=\"dataframe\">\n",
       "  <thead>\n",
       "    <tr style=\"text-align: right;\">\n",
       "      <th></th>\n",
       "      <th>rates</th>\n",
       "    </tr>\n",
       "  </thead>\n",
       "  <tbody>\n",
       "    <tr>\n",
       "      <th>AED</th>\n",
       "      <td>4.017963</td>\n",
       "    </tr>\n",
       "    <tr>\n",
       "      <th>AFN</th>\n",
       "      <td>77.220225</td>\n",
       "    </tr>\n",
       "    <tr>\n",
       "      <th>ALL</th>\n",
       "      <td>104.420872</td>\n",
       "    </tr>\n",
       "    <tr>\n",
       "      <th>AMD</th>\n",
       "      <td>442.373150</td>\n",
       "    </tr>\n",
       "    <tr>\n",
       "      <th>ANG</th>\n",
       "      <td>1.970889</td>\n",
       "    </tr>\n",
       "    <tr>\n",
       "      <th>...</th>\n",
       "      <td>...</td>\n",
       "    </tr>\n",
       "    <tr>\n",
       "      <th>YER</th>\n",
       "      <td>273.877350</td>\n",
       "    </tr>\n",
       "    <tr>\n",
       "      <th>ZAR</th>\n",
       "      <td>20.340610</td>\n",
       "    </tr>\n",
       "    <tr>\n",
       "      <th>ZMK</th>\n",
       "      <td>9847.123455</td>\n",
       "    </tr>\n",
       "    <tr>\n",
       "      <th>ZMW</th>\n",
       "      <td>28.406119</td>\n",
       "    </tr>\n",
       "    <tr>\n",
       "      <th>ZWL</th>\n",
       "      <td>352.260533</td>\n",
       "    </tr>\n",
       "  </tbody>\n",
       "</table>\n",
       "<p>169 rows × 1 columns</p>\n",
       "</div>"
      ],
      "text/plain": [
       "           rates\n",
       "AED     4.017963\n",
       "AFN    77.220225\n",
       "ALL   104.420872\n",
       "AMD   442.373150\n",
       "ANG     1.970889\n",
       "..           ...\n",
       "YER   273.877350\n",
       "ZAR    20.340610\n",
       "ZMK  9847.123455\n",
       "ZMW    28.406119\n",
       "ZWL   352.260533\n",
       "\n",
       "[169 rows x 1 columns]"
      ]
     },
     "execution_count": 11,
     "metadata": {},
     "output_type": "execute_result"
    }
   ],
   "source": [
    "# Drop unnescessary columns\n",
    "df_rates = df_global[[\"rates\"]]\n",
    "df_rates"
   ]
  },
  {
   "cell_type": "markdown",
   "metadata": {},
   "source": [
    "### Load the Data\n",
    "\n",
    "Using the dataframe save it as a CSV names `exchange_rates_1.csv`.\n"
   ]
  },
  {
   "cell_type": "code",
   "execution_count": 12,
   "metadata": {},
   "outputs": [],
   "source": [
    "# Save the Dataframe\n",
    "df_rates.to_csv(\"raw_data\\exchange_rates_1.csv\")"
   ]
  },
  {
   "cell_type": "markdown",
   "metadata": {},
   "source": [
    "Your CSV should be in this format with more currencies\n",
    "\n",
    "|     | Rates      |\n",
    "| --- | ---------- |\n",
    "| AED | 4.398618   |\n",
    "| AFN | 92.917693  |\n",
    "| ALL | 123.099093 |\n",
    "| AMD | 621.935674 |\n",
    "| ANG | 2.149648   |\n"
   ]
  },
  {
   "cell_type": "markdown",
   "metadata": {},
   "source": [
    "## Authors\n"
   ]
  },
  {
   "cell_type": "markdown",
   "metadata": {},
   "source": [
    "Ramesh Sannareddy, Joseph Santarcangelo and Azim Hirjani\n"
   ]
  },
  {
   "cell_type": "markdown",
   "metadata": {},
   "source": [
    "### Other Contributors\n"
   ]
  },
  {
   "cell_type": "markdown",
   "metadata": {},
   "source": [
    "Rav Ahuja\n"
   ]
  },
  {
   "cell_type": "markdown",
   "metadata": {},
   "source": [
    "## Change Log\n"
   ]
  },
  {
   "cell_type": "markdown",
   "metadata": {},
   "source": [
    "| Date (YYYY-MM-DD) | Version | Changed By        | Change Description                              |\n",
    "| ----------------- | ------- | ----------------- | ----------------------------------------------- |\n",
    "| 2022-05-06        | 0.3     | Malika            | Updated instructions to get the API and the url |\n",
    "| 2021-04-15        | 0.2     | Malika            | Updated the lab from USD to EUR                 |\n",
    "| 2020-11-25        | 0.1     | Ramesh Sannareddy | Created initial version of the lab              |\n"
   ]
  },
  {
   "cell_type": "markdown",
   "metadata": {},
   "source": [
    "Copyright © 2020 IBM Corporation. This notebook and its source code are released under the terms of the [MIT License](https://cognitiveclass.ai/mit-license?utm_medium=Exinfluencer&utm_source=Exinfluencer&utm_content=000026UJ&utm_term=10006555&utm_id=NA-SkillsNetwork-Channel-SkillsNetworkCoursesIBMDeveloperSkillsNetworkPY0221ENSkillsNetwork23455645-2022-01-01&cm_mmc=Email_Newsletter-\\_-Developer_Ed%2BTech-\\_-WW_WW-\\_-SkillsNetwork-Courses-IBM-DA0321EN-SkillsNetwork-21426264&cm_mmca1=000026UJ&cm_mmca2=10006555&cm_mmca3=M12345678&cvosrc=email.Newsletter.M12345678&cvo_campaign=000026UJ).\n"
   ]
  }
 ],
 "metadata": {
  "kernelspec": {
   "display_name": "Python 3 (ipykernel)",
   "language": "python",
   "name": "python3"
  },
  "language_info": {
   "codemirror_mode": {
    "name": "ipython",
    "version": 3
   },
   "file_extension": ".py",
   "mimetype": "text/x-python",
   "name": "python",
   "nbconvert_exporter": "python",
   "pygments_lexer": "ipython3",
   "version": "3.9.13"
  },
  "varInspector": {
   "cols": {
    "lenName": 16,
    "lenType": 16,
    "lenVar": 40
   },
   "kernels_config": {
    "python": {
     "delete_cmd_postfix": "",
     "delete_cmd_prefix": "del ",
     "library": "var_list.py",
     "varRefreshCmd": "print(var_dic_list())"
    },
    "r": {
     "delete_cmd_postfix": ") ",
     "delete_cmd_prefix": "rm(",
     "library": "var_list.r",
     "varRefreshCmd": "cat(var_dic_list()) "
    }
   },
   "types_to_exclude": [
    "module",
    "function",
    "builtin_function_or_method",
    "instance",
    "_Feature"
   ],
   "window_display": false
  }
 },
 "nbformat": 4,
 "nbformat_minor": 4
}
